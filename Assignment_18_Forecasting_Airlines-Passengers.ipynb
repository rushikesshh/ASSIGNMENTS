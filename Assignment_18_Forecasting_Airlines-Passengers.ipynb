{
 "cells": [
  {
   "cell_type": "code",
   "execution_count": 1,
   "id": "80cab93c",
   "metadata": {},
   "outputs": [],
   "source": [
    "import pandas as pd\n",
    "import numpy as np\n",
    "import seaborn as sn"
   ]
  },
  {
   "cell_type": "code",
   "execution_count": 2,
   "id": "37f39e18",
   "metadata": {},
   "outputs": [
    {
     "data": {
      "text/html": [
       "<div>\n",
       "<style scoped>\n",
       "    .dataframe tbody tr th:only-of-type {\n",
       "        vertical-align: middle;\n",
       "    }\n",
       "\n",
       "    .dataframe tbody tr th {\n",
       "        vertical-align: top;\n",
       "    }\n",
       "\n",
       "    .dataframe thead th {\n",
       "        text-align: right;\n",
       "    }\n",
       "</style>\n",
       "<table border=\"1\" class=\"dataframe\">\n",
       "  <thead>\n",
       "    <tr style=\"text-align: right;\">\n",
       "      <th></th>\n",
       "      <th>Month</th>\n",
       "      <th>Passengers</th>\n",
       "    </tr>\n",
       "  </thead>\n",
       "  <tbody>\n",
       "    <tr>\n",
       "      <th>0</th>\n",
       "      <td>1949-01</td>\n",
       "      <td>112</td>\n",
       "    </tr>\n",
       "    <tr>\n",
       "      <th>1</th>\n",
       "      <td>1949-02</td>\n",
       "      <td>118</td>\n",
       "    </tr>\n",
       "    <tr>\n",
       "      <th>2</th>\n",
       "      <td>1949-03</td>\n",
       "      <td>132</td>\n",
       "    </tr>\n",
       "    <tr>\n",
       "      <th>3</th>\n",
       "      <td>1949-04</td>\n",
       "      <td>129</td>\n",
       "    </tr>\n",
       "    <tr>\n",
       "      <th>4</th>\n",
       "      <td>1949-05</td>\n",
       "      <td>121</td>\n",
       "    </tr>\n",
       "    <tr>\n",
       "      <th>...</th>\n",
       "      <td>...</td>\n",
       "      <td>...</td>\n",
       "    </tr>\n",
       "    <tr>\n",
       "      <th>139</th>\n",
       "      <td>1960-08</td>\n",
       "      <td>606</td>\n",
       "    </tr>\n",
       "    <tr>\n",
       "      <th>140</th>\n",
       "      <td>1960-09</td>\n",
       "      <td>508</td>\n",
       "    </tr>\n",
       "    <tr>\n",
       "      <th>141</th>\n",
       "      <td>1960-10</td>\n",
       "      <td>461</td>\n",
       "    </tr>\n",
       "    <tr>\n",
       "      <th>142</th>\n",
       "      <td>1960-11</td>\n",
       "      <td>390</td>\n",
       "    </tr>\n",
       "    <tr>\n",
       "      <th>143</th>\n",
       "      <td>1960-12</td>\n",
       "      <td>432</td>\n",
       "    </tr>\n",
       "  </tbody>\n",
       "</table>\n",
       "<p>144 rows × 2 columns</p>\n",
       "</div>"
      ],
      "text/plain": [
       "       Month  Passengers\n",
       "0    1949-01         112\n",
       "1    1949-02         118\n",
       "2    1949-03         132\n",
       "3    1949-04         129\n",
       "4    1949-05         121\n",
       "..       ...         ...\n",
       "139  1960-08         606\n",
       "140  1960-09         508\n",
       "141  1960-10         461\n",
       "142  1960-11         390\n",
       "143  1960-12         432\n",
       "\n",
       "[144 rows x 2 columns]"
      ]
     },
     "execution_count": 2,
     "metadata": {},
     "output_type": "execute_result"
    }
   ],
   "source": [
    "data= pd.read_csv(\"C:\\\\Users\\\\RUSHIKESH\\\\Downloads\\\\airline-passengers.csv\")\n",
    "data"
   ]
  },
  {
   "cell_type": "code",
   "execution_count": 3,
   "id": "89c4263d",
   "metadata": {},
   "outputs": [],
   "source": [
    "t= np.arange(1,145)\n",
    "data['t']=t\n",
    "data['t_square']=data['t']*data['t']\n",
    "\n",
    "log_Passengers=np.log(data['Passengers'])\n",
    "data['log_Passengers']=log_Passengers"
   ]
  },
  {
   "cell_type": "code",
   "execution_count": 4,
   "id": "41a39c34",
   "metadata": {},
   "outputs": [
    {
     "data": {
      "text/html": [
       "<div>\n",
       "<style scoped>\n",
       "    .dataframe tbody tr th:only-of-type {\n",
       "        vertical-align: middle;\n",
       "    }\n",
       "\n",
       "    .dataframe tbody tr th {\n",
       "        vertical-align: top;\n",
       "    }\n",
       "\n",
       "    .dataframe thead th {\n",
       "        text-align: right;\n",
       "    }\n",
       "</style>\n",
       "<table border=\"1\" class=\"dataframe\">\n",
       "  <thead>\n",
       "    <tr style=\"text-align: right;\">\n",
       "      <th></th>\n",
       "      <th>Month</th>\n",
       "      <th>Passengers</th>\n",
       "      <th>t</th>\n",
       "      <th>t_square</th>\n",
       "      <th>log_Passengers</th>\n",
       "    </tr>\n",
       "  </thead>\n",
       "  <tbody>\n",
       "    <tr>\n",
       "      <th>0</th>\n",
       "      <td>1949-01</td>\n",
       "      <td>112</td>\n",
       "      <td>1</td>\n",
       "      <td>1</td>\n",
       "      <td>4.718499</td>\n",
       "    </tr>\n",
       "    <tr>\n",
       "      <th>1</th>\n",
       "      <td>1949-02</td>\n",
       "      <td>118</td>\n",
       "      <td>2</td>\n",
       "      <td>4</td>\n",
       "      <td>4.770685</td>\n",
       "    </tr>\n",
       "    <tr>\n",
       "      <th>2</th>\n",
       "      <td>1949-03</td>\n",
       "      <td>132</td>\n",
       "      <td>3</td>\n",
       "      <td>9</td>\n",
       "      <td>4.882802</td>\n",
       "    </tr>\n",
       "    <tr>\n",
       "      <th>3</th>\n",
       "      <td>1949-04</td>\n",
       "      <td>129</td>\n",
       "      <td>4</td>\n",
       "      <td>16</td>\n",
       "      <td>4.859812</td>\n",
       "    </tr>\n",
       "    <tr>\n",
       "      <th>4</th>\n",
       "      <td>1949-05</td>\n",
       "      <td>121</td>\n",
       "      <td>5</td>\n",
       "      <td>25</td>\n",
       "      <td>4.795791</td>\n",
       "    </tr>\n",
       "    <tr>\n",
       "      <th>...</th>\n",
       "      <td>...</td>\n",
       "      <td>...</td>\n",
       "      <td>...</td>\n",
       "      <td>...</td>\n",
       "      <td>...</td>\n",
       "    </tr>\n",
       "    <tr>\n",
       "      <th>139</th>\n",
       "      <td>1960-08</td>\n",
       "      <td>606</td>\n",
       "      <td>140</td>\n",
       "      <td>19600</td>\n",
       "      <td>6.406880</td>\n",
       "    </tr>\n",
       "    <tr>\n",
       "      <th>140</th>\n",
       "      <td>1960-09</td>\n",
       "      <td>508</td>\n",
       "      <td>141</td>\n",
       "      <td>19881</td>\n",
       "      <td>6.230481</td>\n",
       "    </tr>\n",
       "    <tr>\n",
       "      <th>141</th>\n",
       "      <td>1960-10</td>\n",
       "      <td>461</td>\n",
       "      <td>142</td>\n",
       "      <td>20164</td>\n",
       "      <td>6.133398</td>\n",
       "    </tr>\n",
       "    <tr>\n",
       "      <th>142</th>\n",
       "      <td>1960-11</td>\n",
       "      <td>390</td>\n",
       "      <td>143</td>\n",
       "      <td>20449</td>\n",
       "      <td>5.966147</td>\n",
       "    </tr>\n",
       "    <tr>\n",
       "      <th>143</th>\n",
       "      <td>1960-12</td>\n",
       "      <td>432</td>\n",
       "      <td>144</td>\n",
       "      <td>20736</td>\n",
       "      <td>6.068426</td>\n",
       "    </tr>\n",
       "  </tbody>\n",
       "</table>\n",
       "<p>144 rows × 5 columns</p>\n",
       "</div>"
      ],
      "text/plain": [
       "       Month  Passengers    t  t_square  log_Passengers\n",
       "0    1949-01         112    1         1        4.718499\n",
       "1    1949-02         118    2         4        4.770685\n",
       "2    1949-03         132    3         9        4.882802\n",
       "3    1949-04         129    4        16        4.859812\n",
       "4    1949-05         121    5        25        4.795791\n",
       "..       ...         ...  ...       ...             ...\n",
       "139  1960-08         606  140     19600        6.406880\n",
       "140  1960-09         508  141     19881        6.230481\n",
       "141  1960-10         461  142     20164        6.133398\n",
       "142  1960-11         390  143     20449        5.966147\n",
       "143  1960-12         432  144     20736        6.068426\n",
       "\n",
       "[144 rows x 5 columns]"
      ]
     },
     "execution_count": 4,
     "metadata": {},
     "output_type": "execute_result"
    }
   ],
   "source": [
    "data"
   ]
  },
  {
   "cell_type": "code",
   "execution_count": 5,
   "id": "b15a28c9",
   "metadata": {},
   "outputs": [],
   "source": [
    "data['month'] = pd.DatetimeIndex(data['Month']).month\n"
   ]
  },
  {
   "cell_type": "code",
   "execution_count": 6,
   "id": "c028e23e",
   "metadata": {},
   "outputs": [
    {
     "data": {
      "text/html": [
       "<div>\n",
       "<style scoped>\n",
       "    .dataframe tbody tr th:only-of-type {\n",
       "        vertical-align: middle;\n",
       "    }\n",
       "\n",
       "    .dataframe tbody tr th {\n",
       "        vertical-align: top;\n",
       "    }\n",
       "\n",
       "    .dataframe thead th {\n",
       "        text-align: right;\n",
       "    }\n",
       "</style>\n",
       "<table border=\"1\" class=\"dataframe\">\n",
       "  <thead>\n",
       "    <tr style=\"text-align: right;\">\n",
       "      <th></th>\n",
       "      <th>Month</th>\n",
       "      <th>Passengers</th>\n",
       "      <th>t</th>\n",
       "      <th>t_square</th>\n",
       "      <th>log_Passengers</th>\n",
       "      <th>month</th>\n",
       "    </tr>\n",
       "  </thead>\n",
       "  <tbody>\n",
       "    <tr>\n",
       "      <th>0</th>\n",
       "      <td>1949-01</td>\n",
       "      <td>112</td>\n",
       "      <td>1</td>\n",
       "      <td>1</td>\n",
       "      <td>4.718499</td>\n",
       "      <td>1</td>\n",
       "    </tr>\n",
       "    <tr>\n",
       "      <th>1</th>\n",
       "      <td>1949-02</td>\n",
       "      <td>118</td>\n",
       "      <td>2</td>\n",
       "      <td>4</td>\n",
       "      <td>4.770685</td>\n",
       "      <td>2</td>\n",
       "    </tr>\n",
       "    <tr>\n",
       "      <th>2</th>\n",
       "      <td>1949-03</td>\n",
       "      <td>132</td>\n",
       "      <td>3</td>\n",
       "      <td>9</td>\n",
       "      <td>4.882802</td>\n",
       "      <td>3</td>\n",
       "    </tr>\n",
       "    <tr>\n",
       "      <th>3</th>\n",
       "      <td>1949-04</td>\n",
       "      <td>129</td>\n",
       "      <td>4</td>\n",
       "      <td>16</td>\n",
       "      <td>4.859812</td>\n",
       "      <td>4</td>\n",
       "    </tr>\n",
       "    <tr>\n",
       "      <th>4</th>\n",
       "      <td>1949-05</td>\n",
       "      <td>121</td>\n",
       "      <td>5</td>\n",
       "      <td>25</td>\n",
       "      <td>4.795791</td>\n",
       "      <td>5</td>\n",
       "    </tr>\n",
       "  </tbody>\n",
       "</table>\n",
       "</div>"
      ],
      "text/plain": [
       "     Month  Passengers  t  t_square  log_Passengers  month\n",
       "0  1949-01         112  1         1        4.718499      1\n",
       "1  1949-02         118  2         4        4.770685      2\n",
       "2  1949-03         132  3         9        4.882802      3\n",
       "3  1949-04         129  4        16        4.859812      4\n",
       "4  1949-05         121  5        25        4.795791      5"
      ]
     },
     "execution_count": 6,
     "metadata": {},
     "output_type": "execute_result"
    }
   ],
   "source": [
    "data.head()"
   ]
  },
  {
   "cell_type": "code",
   "execution_count": 7,
   "id": "e9bd7adc",
   "metadata": {},
   "outputs": [],
   "source": [
    "data['month'] = data['month'].replace([1,2,3,4,5,6,7,8,9,10,11,12],\n",
    "                                      ('Jan','Feb','Mar','Apr','May','Jun','Jul','Aug','Sep','Oct','Nov','Dec'))"
   ]
  },
  {
   "cell_type": "code",
   "execution_count": 61,
   "id": "b9f77cb4",
   "metadata": {},
   "outputs": [
    {
     "data": {
      "text/html": [
       "<div>\n",
       "<style scoped>\n",
       "    .dataframe tbody tr th:only-of-type {\n",
       "        vertical-align: middle;\n",
       "    }\n",
       "\n",
       "    .dataframe tbody tr th {\n",
       "        vertical-align: top;\n",
       "    }\n",
       "\n",
       "    .dataframe thead th {\n",
       "        text-align: right;\n",
       "    }\n",
       "</style>\n",
       "<table border=\"1\" class=\"dataframe\">\n",
       "  <thead>\n",
       "    <tr style=\"text-align: right;\">\n",
       "      <th></th>\n",
       "      <th>Month</th>\n",
       "      <th>Passengers</th>\n",
       "      <th>t</th>\n",
       "      <th>t_square</th>\n",
       "      <th>log_Passengers</th>\n",
       "      <th>Apr</th>\n",
       "      <th>Aug</th>\n",
       "      <th>Dec</th>\n",
       "      <th>Feb</th>\n",
       "      <th>Jan</th>\n",
       "      <th>Jul</th>\n",
       "      <th>Jun</th>\n",
       "      <th>Mar</th>\n",
       "      <th>May</th>\n",
       "      <th>Nov</th>\n",
       "      <th>Oct</th>\n",
       "      <th>Sep</th>\n",
       "    </tr>\n",
       "  </thead>\n",
       "  <tbody>\n",
       "    <tr>\n",
       "      <th>0</th>\n",
       "      <td>1949-01</td>\n",
       "      <td>112</td>\n",
       "      <td>1</td>\n",
       "      <td>1</td>\n",
       "      <td>4.718499</td>\n",
       "      <td>0</td>\n",
       "      <td>0</td>\n",
       "      <td>0</td>\n",
       "      <td>0</td>\n",
       "      <td>1</td>\n",
       "      <td>0</td>\n",
       "      <td>0</td>\n",
       "      <td>0</td>\n",
       "      <td>0</td>\n",
       "      <td>0</td>\n",
       "      <td>0</td>\n",
       "      <td>0</td>\n",
       "    </tr>\n",
       "    <tr>\n",
       "      <th>1</th>\n",
       "      <td>1949-02</td>\n",
       "      <td>118</td>\n",
       "      <td>2</td>\n",
       "      <td>4</td>\n",
       "      <td>4.770685</td>\n",
       "      <td>0</td>\n",
       "      <td>0</td>\n",
       "      <td>0</td>\n",
       "      <td>1</td>\n",
       "      <td>0</td>\n",
       "      <td>0</td>\n",
       "      <td>0</td>\n",
       "      <td>0</td>\n",
       "      <td>0</td>\n",
       "      <td>0</td>\n",
       "      <td>0</td>\n",
       "      <td>0</td>\n",
       "    </tr>\n",
       "    <tr>\n",
       "      <th>2</th>\n",
       "      <td>1949-03</td>\n",
       "      <td>132</td>\n",
       "      <td>3</td>\n",
       "      <td>9</td>\n",
       "      <td>4.882802</td>\n",
       "      <td>0</td>\n",
       "      <td>0</td>\n",
       "      <td>0</td>\n",
       "      <td>0</td>\n",
       "      <td>0</td>\n",
       "      <td>0</td>\n",
       "      <td>0</td>\n",
       "      <td>1</td>\n",
       "      <td>0</td>\n",
       "      <td>0</td>\n",
       "      <td>0</td>\n",
       "      <td>0</td>\n",
       "    </tr>\n",
       "    <tr>\n",
       "      <th>3</th>\n",
       "      <td>1949-04</td>\n",
       "      <td>129</td>\n",
       "      <td>4</td>\n",
       "      <td>16</td>\n",
       "      <td>4.859812</td>\n",
       "      <td>1</td>\n",
       "      <td>0</td>\n",
       "      <td>0</td>\n",
       "      <td>0</td>\n",
       "      <td>0</td>\n",
       "      <td>0</td>\n",
       "      <td>0</td>\n",
       "      <td>0</td>\n",
       "      <td>0</td>\n",
       "      <td>0</td>\n",
       "      <td>0</td>\n",
       "      <td>0</td>\n",
       "    </tr>\n",
       "    <tr>\n",
       "      <th>4</th>\n",
       "      <td>1949-05</td>\n",
       "      <td>121</td>\n",
       "      <td>5</td>\n",
       "      <td>25</td>\n",
       "      <td>4.795791</td>\n",
       "      <td>0</td>\n",
       "      <td>0</td>\n",
       "      <td>0</td>\n",
       "      <td>0</td>\n",
       "      <td>0</td>\n",
       "      <td>0</td>\n",
       "      <td>0</td>\n",
       "      <td>0</td>\n",
       "      <td>1</td>\n",
       "      <td>0</td>\n",
       "      <td>0</td>\n",
       "      <td>0</td>\n",
       "    </tr>\n",
       "  </tbody>\n",
       "</table>\n",
       "</div>"
      ],
      "text/plain": [
       "     Month  Passengers  t  t_square  log_Passengers  Apr  Aug  Dec  Feb  Jan  \\\n",
       "0  1949-01         112  1         1        4.718499    0    0    0    0    1   \n",
       "1  1949-02         118  2         4        4.770685    0    0    0    1    0   \n",
       "2  1949-03         132  3         9        4.882802    0    0    0    0    0   \n",
       "3  1949-04         129  4        16        4.859812    1    0    0    0    0   \n",
       "4  1949-05         121  5        25        4.795791    0    0    0    0    0   \n",
       "\n",
       "   Jul  Jun  Mar  May  Nov  Oct  Sep  \n",
       "0    0    0    0    0    0    0    0  \n",
       "1    0    0    0    0    0    0    0  \n",
       "2    0    0    1    0    0    0    0  \n",
       "3    0    0    0    0    0    0    0  \n",
       "4    0    0    0    1    0    0    0  "
      ]
     },
     "execution_count": 61,
     "metadata": {},
     "output_type": "execute_result"
    }
   ],
   "source": [
    "airplane = pd.get_dummies(data,   prefix='',   prefix_sep='',   columns=['month'])\n",
    "airplane.head()"
   ]
  },
  {
   "cell_type": "code",
   "execution_count": 62,
   "id": "b1fcfc89",
   "metadata": {},
   "outputs": [
    {
     "data": {
      "text/plain": [
       "<AxesSubplot:>"
      ]
     },
     "execution_count": 62,
     "metadata": {},
     "output_type": "execute_result"
    },
    {
     "data": {
      "image/png": "[encoded data removed]",
      "text/plain": [
       "<Figure size 864x360 with 1 Axes>"
      ]
     },
     "metadata": {
      "needs_background": "light"
     },
     "output_type": "display_data"
    }
   ],
   "source": [
    "airplane['Passengers'].plot(figsize=(12,5))"
   ]
  },
  {
   "cell_type": "code",
   "execution_count": 63,
   "id": "774f4af5",
   "metadata": {},
   "outputs": [
    {
     "data": {
      "text/plain": [
       "<AxesSubplot:>"
      ]
     },
     "execution_count": 63,
     "metadata": {},
     "output_type": "execute_result"
    },
    {
     "data": {
      "image/png": "[encoded data removed]",
      "text/plain": [
       "<Figure size 432x288 with 1 Axes>"
      ]
     },
     "metadata": {
      "needs_background": "light"
     },
     "output_type": "display_data"
    }
   ],
   "source": [
    "airplane['Passengers'].hist()"
   ]
  },
  {
   "cell_type": "markdown",
   "id": "bb73779b",
   "metadata": {},
   "source": [
    "## Splitting the data :-"
   ]
  },
  {
   "cell_type": "code",
   "execution_count": 64,
   "id": "4c02af5b",
   "metadata": {},
   "outputs": [
    {
     "data": {
      "text/html": [
       "<div>\n",
       "<style scoped>\n",
       "    .dataframe tbody tr th:only-of-type {\n",
       "        vertical-align: middle;\n",
       "    }\n",
       "\n",
       "    .dataframe tbody tr th {\n",
       "        vertical-align: top;\n",
       "    }\n",
       "\n",
       "    .dataframe thead th {\n",
       "        text-align: right;\n",
       "    }\n",
       "</style>\n",
       "<table border=\"1\" class=\"dataframe\">\n",
       "  <thead>\n",
       "    <tr style=\"text-align: right;\">\n",
       "      <th></th>\n",
       "      <th>Month</th>\n",
       "      <th>Passengers</th>\n",
       "      <th>t</th>\n",
       "      <th>t_square</th>\n",
       "      <th>log_Passengers</th>\n",
       "      <th>Apr</th>\n",
       "      <th>Aug</th>\n",
       "      <th>Dec</th>\n",
       "      <th>Feb</th>\n",
       "      <th>Jan</th>\n",
       "      <th>Jul</th>\n",
       "      <th>Jun</th>\n",
       "      <th>Mar</th>\n",
       "      <th>May</th>\n",
       "      <th>Nov</th>\n",
       "      <th>Oct</th>\n",
       "      <th>Sep</th>\n",
       "    </tr>\n",
       "  </thead>\n",
       "  <tbody>\n",
       "    <tr>\n",
       "      <th>0</th>\n",
       "      <td>1949-01</td>\n",
       "      <td>112</td>\n",
       "      <td>1</td>\n",
       "      <td>1</td>\n",
       "      <td>4.718499</td>\n",
       "      <td>0</td>\n",
       "      <td>0</td>\n",
       "      <td>0</td>\n",
       "      <td>0</td>\n",
       "      <td>1</td>\n",
       "      <td>0</td>\n",
       "      <td>0</td>\n",
       "      <td>0</td>\n",
       "      <td>0</td>\n",
       "      <td>0</td>\n",
       "      <td>0</td>\n",
       "      <td>0</td>\n",
       "    </tr>\n",
       "    <tr>\n",
       "      <th>1</th>\n",
       "      <td>1949-02</td>\n",
       "      <td>118</td>\n",
       "      <td>2</td>\n",
       "      <td>4</td>\n",
       "      <td>4.770685</td>\n",
       "      <td>0</td>\n",
       "      <td>0</td>\n",
       "      <td>0</td>\n",
       "      <td>1</td>\n",
       "      <td>0</td>\n",
       "      <td>0</td>\n",
       "      <td>0</td>\n",
       "      <td>0</td>\n",
       "      <td>0</td>\n",
       "      <td>0</td>\n",
       "      <td>0</td>\n",
       "      <td>0</td>\n",
       "    </tr>\n",
       "    <tr>\n",
       "      <th>2</th>\n",
       "      <td>1949-03</td>\n",
       "      <td>132</td>\n",
       "      <td>3</td>\n",
       "      <td>9</td>\n",
       "      <td>4.882802</td>\n",
       "      <td>0</td>\n",
       "      <td>0</td>\n",
       "      <td>0</td>\n",
       "      <td>0</td>\n",
       "      <td>0</td>\n",
       "      <td>0</td>\n",
       "      <td>0</td>\n",
       "      <td>1</td>\n",
       "      <td>0</td>\n",
       "      <td>0</td>\n",
       "      <td>0</td>\n",
       "      <td>0</td>\n",
       "    </tr>\n",
       "    <tr>\n",
       "      <th>3</th>\n",
       "      <td>1949-04</td>\n",
       "      <td>129</td>\n",
       "      <td>4</td>\n",
       "      <td>16</td>\n",
       "      <td>4.859812</td>\n",
       "      <td>1</td>\n",
       "      <td>0</td>\n",
       "      <td>0</td>\n",
       "      <td>0</td>\n",
       "      <td>0</td>\n",
       "      <td>0</td>\n",
       "      <td>0</td>\n",
       "      <td>0</td>\n",
       "      <td>0</td>\n",
       "      <td>0</td>\n",
       "      <td>0</td>\n",
       "      <td>0</td>\n",
       "    </tr>\n",
       "    <tr>\n",
       "      <th>4</th>\n",
       "      <td>1949-05</td>\n",
       "      <td>121</td>\n",
       "      <td>5</td>\n",
       "      <td>25</td>\n",
       "      <td>4.795791</td>\n",
       "      <td>0</td>\n",
       "      <td>0</td>\n",
       "      <td>0</td>\n",
       "      <td>0</td>\n",
       "      <td>0</td>\n",
       "      <td>0</td>\n",
       "      <td>0</td>\n",
       "      <td>0</td>\n",
       "      <td>1</td>\n",
       "      <td>0</td>\n",
       "      <td>0</td>\n",
       "      <td>0</td>\n",
       "    </tr>\n",
       "    <tr>\n",
       "      <th>...</th>\n",
       "      <td>...</td>\n",
       "      <td>...</td>\n",
       "      <td>...</td>\n",
       "      <td>...</td>\n",
       "      <td>...</td>\n",
       "      <td>...</td>\n",
       "      <td>...</td>\n",
       "      <td>...</td>\n",
       "      <td>...</td>\n",
       "      <td>...</td>\n",
       "      <td>...</td>\n",
       "      <td>...</td>\n",
       "      <td>...</td>\n",
       "      <td>...</td>\n",
       "      <td>...</td>\n",
       "      <td>...</td>\n",
       "      <td>...</td>\n",
       "    </tr>\n",
       "    <tr>\n",
       "      <th>127</th>\n",
       "      <td>1959-08</td>\n",
       "      <td>559</td>\n",
       "      <td>128</td>\n",
       "      <td>16384</td>\n",
       "      <td>6.326149</td>\n",
       "      <td>0</td>\n",
       "      <td>1</td>\n",
       "      <td>0</td>\n",
       "      <td>0</td>\n",
       "      <td>0</td>\n",
       "      <td>0</td>\n",
       "      <td>0</td>\n",
       "      <td>0</td>\n",
       "      <td>0</td>\n",
       "      <td>0</td>\n",
       "      <td>0</td>\n",
       "      <td>0</td>\n",
       "    </tr>\n",
       "    <tr>\n",
       "      <th>128</th>\n",
       "      <td>1959-09</td>\n",
       "      <td>463</td>\n",
       "      <td>129</td>\n",
       "      <td>16641</td>\n",
       "      <td>6.137727</td>\n",
       "      <td>0</td>\n",
       "      <td>0</td>\n",
       "      <td>0</td>\n",
       "      <td>0</td>\n",
       "      <td>0</td>\n",
       "      <td>0</td>\n",
       "      <td>0</td>\n",
       "      <td>0</td>\n",
       "      <td>0</td>\n",
       "      <td>0</td>\n",
       "      <td>0</td>\n",
       "      <td>1</td>\n",
       "    </tr>\n",
       "    <tr>\n",
       "      <th>129</th>\n",
       "      <td>1959-10</td>\n",
       "      <td>407</td>\n",
       "      <td>130</td>\n",
       "      <td>16900</td>\n",
       "      <td>6.008813</td>\n",
       "      <td>0</td>\n",
       "      <td>0</td>\n",
       "      <td>0</td>\n",
       "      <td>0</td>\n",
       "      <td>0</td>\n",
       "      <td>0</td>\n",
       "      <td>0</td>\n",
       "      <td>0</td>\n",
       "      <td>0</td>\n",
       "      <td>0</td>\n",
       "      <td>1</td>\n",
       "      <td>0</td>\n",
       "    </tr>\n",
       "    <tr>\n",
       "      <th>130</th>\n",
       "      <td>1959-11</td>\n",
       "      <td>362</td>\n",
       "      <td>131</td>\n",
       "      <td>17161</td>\n",
       "      <td>5.891644</td>\n",
       "      <td>0</td>\n",
       "      <td>0</td>\n",
       "      <td>0</td>\n",
       "      <td>0</td>\n",
       "      <td>0</td>\n",
       "      <td>0</td>\n",
       "      <td>0</td>\n",
       "      <td>0</td>\n",
       "      <td>0</td>\n",
       "      <td>1</td>\n",
       "      <td>0</td>\n",
       "      <td>0</td>\n",
       "    </tr>\n",
       "    <tr>\n",
       "      <th>131</th>\n",
       "      <td>1959-12</td>\n",
       "      <td>405</td>\n",
       "      <td>132</td>\n",
       "      <td>17424</td>\n",
       "      <td>6.003887</td>\n",
       "      <td>0</td>\n",
       "      <td>0</td>\n",
       "      <td>1</td>\n",
       "      <td>0</td>\n",
       "      <td>0</td>\n",
       "      <td>0</td>\n",
       "      <td>0</td>\n",
       "      <td>0</td>\n",
       "      <td>0</td>\n",
       "      <td>0</td>\n",
       "      <td>0</td>\n",
       "      <td>0</td>\n",
       "    </tr>\n",
       "  </tbody>\n",
       "</table>\n",
       "<p>132 rows × 17 columns</p>\n",
       "</div>"
      ],
      "text/plain": [
       "       Month  Passengers    t  t_square  log_Passengers  Apr  Aug  Dec  Feb  \\\n",
       "0    1949-01         112    1         1        4.718499    0    0    0    0   \n",
       "1    1949-02         118    2         4        4.770685    0    0    0    1   \n",
       "2    1949-03         132    3         9        4.882802    0    0    0    0   \n",
       "3    1949-04         129    4        16        4.859812    1    0    0    0   \n",
       "4    1949-05         121    5        25        4.795791    0    0    0    0   \n",
       "..       ...         ...  ...       ...             ...  ...  ...  ...  ...   \n",
       "127  1959-08         559  128     16384        6.326149    0    1    0    0   \n",
       "128  1959-09         463  129     16641        6.137727    0    0    0    0   \n",
       "129  1959-10         407  130     16900        6.008813    0    0    0    0   \n",
       "130  1959-11         362  131     17161        5.891644    0    0    0    0   \n",
       "131  1959-12         405  132     17424        6.003887    0    0    1    0   \n",
       "\n",
       "     Jan  Jul  Jun  Mar  May  Nov  Oct  Sep  \n",
       "0      1    0    0    0    0    0    0    0  \n",
       "1      0    0    0    0    0    0    0    0  \n",
       "2      0    0    0    1    0    0    0    0  \n",
       "3      0    0    0    0    0    0    0    0  \n",
       "4      0    0    0    0    1    0    0    0  \n",
       "..   ...  ...  ...  ...  ...  ...  ...  ...  \n",
       "127    0    0    0    0    0    0    0    0  \n",
       "128    0    0    0    0    0    0    0    1  \n",
       "129    0    0    0    0    0    0    1    0  \n",
       "130    0    0    0    0    0    1    0    0  \n",
       "131    0    0    0    0    0    0    0    0  \n",
       "\n",
       "[132 rows x 17 columns]"
      ]
     },
     "execution_count": 64,
     "metadata": {},
     "output_type": "execute_result"
    }
   ],
   "source": [
    "train = airplane.head(132)\n",
    "test = airplane.tail(12)\n",
    "train"
   ]
  },
  {
   "cell_type": "code",
   "execution_count": 65,
   "id": "083f2ab2",
   "metadata": {},
   "outputs": [
    {
     "data": {
      "text/html": [
       "<div>\n",
       "<style scoped>\n",
       "    .dataframe tbody tr th:only-of-type {\n",
       "        vertical-align: middle;\n",
       "    }\n",
       "\n",
       "    .dataframe tbody tr th {\n",
       "        vertical-align: top;\n",
       "    }\n",
       "\n",
       "    .dataframe thead th {\n",
       "        text-align: right;\n",
       "    }\n",
       "</style>\n",
       "<table border=\"1\" class=\"dataframe\">\n",
       "  <thead>\n",
       "    <tr style=\"text-align: right;\">\n",
       "      <th></th>\n",
       "      <th>Month</th>\n",
       "      <th>Passengers</th>\n",
       "      <th>t</th>\n",
       "      <th>t_square</th>\n",
       "      <th>log_Passengers</th>\n",
       "      <th>Apr</th>\n",
       "      <th>Aug</th>\n",
       "      <th>Dec</th>\n",
       "      <th>Feb</th>\n",
       "      <th>Jan</th>\n",
       "      <th>Jul</th>\n",
       "      <th>Jun</th>\n",
       "      <th>Mar</th>\n",
       "      <th>May</th>\n",
       "      <th>Nov</th>\n",
       "      <th>Oct</th>\n",
       "      <th>Sep</th>\n",
       "    </tr>\n",
       "  </thead>\n",
       "  <tbody>\n",
       "    <tr>\n",
       "      <th>132</th>\n",
       "      <td>1960-01</td>\n",
       "      <td>417</td>\n",
       "      <td>133</td>\n",
       "      <td>17689</td>\n",
       "      <td>6.033086</td>\n",
       "      <td>0</td>\n",
       "      <td>0</td>\n",
       "      <td>0</td>\n",
       "      <td>0</td>\n",
       "      <td>1</td>\n",
       "      <td>0</td>\n",
       "      <td>0</td>\n",
       "      <td>0</td>\n",
       "      <td>0</td>\n",
       "      <td>0</td>\n",
       "      <td>0</td>\n",
       "      <td>0</td>\n",
       "    </tr>\n",
       "    <tr>\n",
       "      <th>133</th>\n",
       "      <td>1960-02</td>\n",
       "      <td>391</td>\n",
       "      <td>134</td>\n",
       "      <td>17956</td>\n",
       "      <td>5.968708</td>\n",
       "      <td>0</td>\n",
       "      <td>0</td>\n",
       "      <td>0</td>\n",
       "      <td>1</td>\n",
       "      <td>0</td>\n",
       "      <td>0</td>\n",
       "      <td>0</td>\n",
       "      <td>0</td>\n",
       "      <td>0</td>\n",
       "      <td>0</td>\n",
       "      <td>0</td>\n",
       "      <td>0</td>\n",
       "    </tr>\n",
       "    <tr>\n",
       "      <th>134</th>\n",
       "      <td>1960-03</td>\n",
       "      <td>419</td>\n",
       "      <td>135</td>\n",
       "      <td>18225</td>\n",
       "      <td>6.037871</td>\n",
       "      <td>0</td>\n",
       "      <td>0</td>\n",
       "      <td>0</td>\n",
       "      <td>0</td>\n",
       "      <td>0</td>\n",
       "      <td>0</td>\n",
       "      <td>0</td>\n",
       "      <td>1</td>\n",
       "      <td>0</td>\n",
       "      <td>0</td>\n",
       "      <td>0</td>\n",
       "      <td>0</td>\n",
       "    </tr>\n",
       "    <tr>\n",
       "      <th>135</th>\n",
       "      <td>1960-04</td>\n",
       "      <td>461</td>\n",
       "      <td>136</td>\n",
       "      <td>18496</td>\n",
       "      <td>6.133398</td>\n",
       "      <td>1</td>\n",
       "      <td>0</td>\n",
       "      <td>0</td>\n",
       "      <td>0</td>\n",
       "      <td>0</td>\n",
       "      <td>0</td>\n",
       "      <td>0</td>\n",
       "      <td>0</td>\n",
       "      <td>0</td>\n",
       "      <td>0</td>\n",
       "      <td>0</td>\n",
       "      <td>0</td>\n",
       "    </tr>\n",
       "    <tr>\n",
       "      <th>136</th>\n",
       "      <td>1960-05</td>\n",
       "      <td>472</td>\n",
       "      <td>137</td>\n",
       "      <td>18769</td>\n",
       "      <td>6.156979</td>\n",
       "      <td>0</td>\n",
       "      <td>0</td>\n",
       "      <td>0</td>\n",
       "      <td>0</td>\n",
       "      <td>0</td>\n",
       "      <td>0</td>\n",
       "      <td>0</td>\n",
       "      <td>0</td>\n",
       "      <td>1</td>\n",
       "      <td>0</td>\n",
       "      <td>0</td>\n",
       "      <td>0</td>\n",
       "    </tr>\n",
       "    <tr>\n",
       "      <th>137</th>\n",
       "      <td>1960-06</td>\n",
       "      <td>535</td>\n",
       "      <td>138</td>\n",
       "      <td>19044</td>\n",
       "      <td>6.282267</td>\n",
       "      <td>0</td>\n",
       "      <td>0</td>\n",
       "      <td>0</td>\n",
       "      <td>0</td>\n",
       "      <td>0</td>\n",
       "      <td>0</td>\n",
       "      <td>1</td>\n",
       "      <td>0</td>\n",
       "      <td>0</td>\n",
       "      <td>0</td>\n",
       "      <td>0</td>\n",
       "      <td>0</td>\n",
       "    </tr>\n",
       "    <tr>\n",
       "      <th>138</th>\n",
       "      <td>1960-07</td>\n",
       "      <td>622</td>\n",
       "      <td>139</td>\n",
       "      <td>19321</td>\n",
       "      <td>6.432940</td>\n",
       "      <td>0</td>\n",
       "      <td>0</td>\n",
       "      <td>0</td>\n",
       "      <td>0</td>\n",
       "      <td>0</td>\n",
       "      <td>1</td>\n",
       "      <td>0</td>\n",
       "      <td>0</td>\n",
       "      <td>0</td>\n",
       "      <td>0</td>\n",
       "      <td>0</td>\n",
       "      <td>0</td>\n",
       "    </tr>\n",
       "    <tr>\n",
       "      <th>139</th>\n",
       "      <td>1960-08</td>\n",
       "      <td>606</td>\n",
       "      <td>140</td>\n",
       "      <td>19600</td>\n",
       "      <td>6.406880</td>\n",
       "      <td>0</td>\n",
       "      <td>1</td>\n",
       "      <td>0</td>\n",
       "      <td>0</td>\n",
       "      <td>0</td>\n",
       "      <td>0</td>\n",
       "      <td>0</td>\n",
       "      <td>0</td>\n",
       "      <td>0</td>\n",
       "      <td>0</td>\n",
       "      <td>0</td>\n",
       "      <td>0</td>\n",
       "    </tr>\n",
       "    <tr>\n",
       "      <th>140</th>\n",
       "      <td>1960-09</td>\n",
       "      <td>508</td>\n",
       "      <td>141</td>\n",
       "      <td>19881</td>\n",
       "      <td>6.230481</td>\n",
       "      <td>0</td>\n",
       "      <td>0</td>\n",
       "      <td>0</td>\n",
       "      <td>0</td>\n",
       "      <td>0</td>\n",
       "      <td>0</td>\n",
       "      <td>0</td>\n",
       "      <td>0</td>\n",
       "      <td>0</td>\n",
       "      <td>0</td>\n",
       "      <td>0</td>\n",
       "      <td>1</td>\n",
       "    </tr>\n",
       "    <tr>\n",
       "      <th>141</th>\n",
       "      <td>1960-10</td>\n",
       "      <td>461</td>\n",
       "      <td>142</td>\n",
       "      <td>20164</td>\n",
       "      <td>6.133398</td>\n",
       "      <td>0</td>\n",
       "      <td>0</td>\n",
       "      <td>0</td>\n",
       "      <td>0</td>\n",
       "      <td>0</td>\n",
       "      <td>0</td>\n",
       "      <td>0</td>\n",
       "      <td>0</td>\n",
       "      <td>0</td>\n",
       "      <td>0</td>\n",
       "      <td>1</td>\n",
       "      <td>0</td>\n",
       "    </tr>\n",
       "    <tr>\n",
       "      <th>142</th>\n",
       "      <td>1960-11</td>\n",
       "      <td>390</td>\n",
       "      <td>143</td>\n",
       "      <td>20449</td>\n",
       "      <td>5.966147</td>\n",
       "      <td>0</td>\n",
       "      <td>0</td>\n",
       "      <td>0</td>\n",
       "      <td>0</td>\n",
       "      <td>0</td>\n",
       "      <td>0</td>\n",
       "      <td>0</td>\n",
       "      <td>0</td>\n",
       "      <td>0</td>\n",
       "      <td>1</td>\n",
       "      <td>0</td>\n",
       "      <td>0</td>\n",
       "    </tr>\n",
       "    <tr>\n",
       "      <th>143</th>\n",
       "      <td>1960-12</td>\n",
       "      <td>432</td>\n",
       "      <td>144</td>\n",
       "      <td>20736</td>\n",
       "      <td>6.068426</td>\n",
       "      <td>0</td>\n",
       "      <td>0</td>\n",
       "      <td>1</td>\n",
       "      <td>0</td>\n",
       "      <td>0</td>\n",
       "      <td>0</td>\n",
       "      <td>0</td>\n",
       "      <td>0</td>\n",
       "      <td>0</td>\n",
       "      <td>0</td>\n",
       "      <td>0</td>\n",
       "      <td>0</td>\n",
       "    </tr>\n",
       "  </tbody>\n",
       "</table>\n",
       "</div>"
      ],
      "text/plain": [
       "       Month  Passengers    t  t_square  log_Passengers  Apr  Aug  Dec  Feb  \\\n",
       "132  1960-01         417  133     17689        6.033086    0    0    0    0   \n",
       "133  1960-02         391  134     17956        5.968708    0    0    0    1   \n",
       "134  1960-03         419  135     18225        6.037871    0    0    0    0   \n",
       "135  1960-04         461  136     18496        6.133398    1    0    0    0   \n",
       "136  1960-05         472  137     18769        6.156979    0    0    0    0   \n",
       "137  1960-06         535  138     19044        6.282267    0    0    0    0   \n",
       "138  1960-07         622  139     19321        6.432940    0    0    0    0   \n",
       "139  1960-08         606  140     19600        6.406880    0    1    0    0   \n",
       "140  1960-09         508  141     19881        6.230481    0    0    0    0   \n",
       "141  1960-10         461  142     20164        6.133398    0    0    0    0   \n",
       "142  1960-11         390  143     20449        5.966147    0    0    0    0   \n",
       "143  1960-12         432  144     20736        6.068426    0    0    1    0   \n",
       "\n",
       "     Jan  Jul  Jun  Mar  May  Nov  Oct  Sep  \n",
       "132    1    0    0    0    0    0    0    0  \n",
       "133    0    0    0    0    0    0    0    0  \n",
       "134    0    0    0    1    0    0    0    0  \n",
       "135    0    0    0    0    0    0    0    0  \n",
       "136    0    0    0    0    1    0    0    0  \n",
       "137    0    0    1    0    0    0    0    0  \n",
       "138    0    1    0    0    0    0    0    0  \n",
       "139    0    0    0    0    0    0    0    0  \n",
       "140    0    0    0    0    0    0    0    1  \n",
       "141    0    0    0    0    0    0    1    0  \n",
       "142    0    0    0    0    0    1    0    0  \n",
       "143    0    0    0    0    0    0    0    0  "
      ]
     },
     "execution_count": 65,
     "metadata": {},
     "output_type": "execute_result"
    }
   ],
   "source": [
    "test"
   ]
  },
  {
   "cell_type": "code",
   "execution_count": 66,
   "id": "765b0c5b",
   "metadata": {},
   "outputs": [],
   "source": [
    "import statsmodels.formula.api as smf"
   ]
  },
  {
   "cell_type": "markdown",
   "id": "7e10820d",
   "metadata": {},
   "source": [
    "### Linear model :-"
   ]
  },
  {
   "cell_type": "code",
   "execution_count": 67,
   "id": "53b39268",
   "metadata": {},
   "outputs": [],
   "source": [
    "model1 = smf.ols('Passengers~t', data=train).fit()"
   ]
  },
  {
   "cell_type": "code",
   "execution_count": 68,
   "id": "cfd28143",
   "metadata": {},
   "outputs": [
    {
     "data": {
      "text/plain": [
       "132    432.979412\n",
       "133    435.543127\n",
       "134    438.106841\n",
       "135    440.670555\n",
       "136    443.234269\n",
       "137    445.797983\n",
       "138    448.361697\n",
       "139    450.925411\n",
       "140    453.489125\n",
       "141    456.052839\n",
       "142    458.616554\n",
       "143    461.180268\n",
       "dtype: float64"
      ]
     },
     "execution_count": 68,
     "metadata": {},
     "output_type": "execute_result"
    }
   ],
   "source": [
    "pred_linear = model1.predict(test.t)\n",
    "pred_linear"
   ]
  },
  {
   "cell_type": "code",
   "execution_count": 69,
   "id": "21024d29",
   "metadata": {},
   "outputs": [
    {
     "data": {
      "text/plain": [
       "29.086826625898578"
      ]
     },
     "execution_count": 69,
     "metadata": {},
     "output_type": "execute_result"
    }
   ],
   "source": [
    "rmse_linear = np.sqrt(np.mean(pred_linear-test.Passengers)**2)\n",
    "rmse_linear"
   ]
  },
  {
   "cell_type": "markdown",
   "id": "8914e061",
   "metadata": {},
   "source": [
    "### Exponential model :-"
   ]
  },
  {
   "cell_type": "code",
   "execution_count": 70,
   "id": "13540671",
   "metadata": {},
   "outputs": [],
   "source": [
    "model2 = smf.ols('log_Passengers~t', data=train).fit()"
   ]
  },
  {
   "cell_type": "code",
   "execution_count": 71,
   "id": "e3bf1689",
   "metadata": {},
   "outputs": [
    {
     "data": {
      "text/plain": [
       "132    478.266316\n",
       "133    483.208336\n",
       "134    488.201424\n",
       "135    493.246106\n",
       "136    498.342916\n",
       "137    503.492392\n",
       "138    508.695078\n",
       "139    513.951525\n",
       "140    519.262288\n",
       "141    524.627928\n",
       "142    530.049013\n",
       "143    535.526114\n",
       "dtype: float64"
      ]
     },
     "execution_count": 71,
     "metadata": {},
     "output_type": "execute_result"
    }
   ],
   "source": [
    "pred_expo = np.exp(model2.predict(test.t))\n",
    "pred_expo"
   ]
  },
  {
   "cell_type": "code",
   "execution_count": 72,
   "id": "0227c5bd",
   "metadata": {},
   "outputs": [
    {
     "data": {
      "text/plain": [
       "30.23911963927056"
      ]
     },
     "execution_count": 72,
     "metadata": {},
     "output_type": "execute_result"
    }
   ],
   "source": [
    "rmse_expo = np.sqrt(np.mean(pred_expo-test.Passengers)**2)\n",
    "rmse_expo"
   ]
  },
  {
   "cell_type": "markdown",
   "id": "21b58d5c",
   "metadata": {},
   "source": [
    "### Quadratic model :-"
   ]
  },
  {
   "cell_type": "code",
   "execution_count": 73,
   "id": "e396dcf3",
   "metadata": {},
   "outputs": [],
   "source": [
    "model3 = smf.ols('Passengers~t+t_square', data=train).fit()"
   ]
  },
  {
   "cell_type": "code",
   "execution_count": 74,
   "id": "edf578c8",
   "metadata": {},
   "outputs": [
    {
     "data": {
      "text/plain": [
       "132    452.552061\n",
       "133    455.998751\n",
       "134    459.458621\n",
       "135    462.931669\n",
       "136    466.417896\n",
       "137    469.917302\n",
       "138    473.429886\n",
       "139    476.955649\n",
       "140    480.494591\n",
       "141    484.046712\n",
       "142    487.612012\n",
       "143    491.190490\n",
       "dtype: float64"
      ]
     },
     "execution_count": 74,
     "metadata": {},
     "output_type": "execute_result"
    }
   ],
   "source": [
    "pred_quad = model3.predict(test[['t','t_square']])\n",
    "pred_quad"
   ]
  },
  {
   "cell_type": "code",
   "execution_count": 75,
   "id": "e8b06275",
   "metadata": {},
   "outputs": [
    {
     "data": {
      "text/plain": [
       "4.416196691558038"
      ]
     },
     "execution_count": 75,
     "metadata": {},
     "output_type": "execute_result"
    }
   ],
   "source": [
    "rmse_quad = np.sqrt(np.mean(pred_quad-test.Passengers)**2)\n",
    "rmse_quad"
   ]
  },
  {
   "cell_type": "markdown",
   "id": "43fe56f1",
   "metadata": {},
   "source": [
    "### Additive Seasonality model :-"
   ]
  },
  {
   "cell_type": "code",
   "execution_count": 78,
   "id": "1b86eb5b",
   "metadata": {},
   "outputs": [],
   "source": [
    "model4 = smf.ols('Passengers~t+Jan+Feb+Mar+Apr+May+Jun+Jul+Aug+Sep+Oct+Nov+Dec', data=train).fit()"
   ]
  },
  {
   "cell_type": "code",
   "execution_count": 80,
   "id": "39df77c3",
   "metadata": {},
   "outputs": [
    {
     "data": {
      "text/plain": [
       "132    410.722727\n",
       "133    405.722727\n",
       "134    441.540909\n",
       "135    434.359091\n",
       "136    438.540909\n",
       "137    476.268182\n",
       "138    511.631818\n",
       "139    512.813636\n",
       "140    468.631818\n",
       "141    433.813636\n",
       "142    403.450000\n",
       "143    431.268182\n",
       "dtype: float64"
      ]
     },
     "execution_count": 80,
     "metadata": {},
     "output_type": "execute_result"
    }
   ],
   "source": [
    "pred_add_seas = model4.predict(test[['t','Jan','Feb','Mar','Apr','May','Jun','Jul','Aug','Sep','Oct','Nov','Dec']])\n",
    "pred_add_seas"
   ]
  },
  {
   "cell_type": "code",
   "execution_count": 83,
   "id": "161ea3a2",
   "metadata": {},
   "outputs": [
    {
     "data": {
      "text/plain": [
       "28.76969696969688"
      ]
     },
     "execution_count": 83,
     "metadata": {},
     "output_type": "execute_result"
    }
   ],
   "source": [
    "rmse_add_seas = np.sqrt(np.mean(pred_add_seas-test.Passengers)**2)\n",
    "rmse_add_seas"
   ]
  },
  {
   "cell_type": "markdown",
   "id": "e2578bd7",
   "metadata": {},
   "source": [
    "### Additive Seasonability Quadratic model :-"
   ]
  },
  {
   "cell_type": "code",
   "execution_count": 84,
   "id": "31342b94",
   "metadata": {},
   "outputs": [],
   "source": [
    "model5 = smf.ols('Passengers~t+t_square+Jan+Feb+Mar+Apr+May+Jun+Jul+Aug+Sep+Oct+Nov+Dec', data=train).fit()"
   ]
  },
  {
   "cell_type": "code",
   "execution_count": 85,
   "id": "1b39fa25",
   "metadata": {},
   "outputs": [],
   "source": [
    "pred_add_seas_quad = model5.predict(test[['t','t_square','Jan','Feb','Mar','Apr','May','Jun','Jul','Aug','Sep','Oct','Nov','Dec']])"
   ]
  },
  {
   "cell_type": "code",
   "execution_count": 86,
   "id": "d944d5fb",
   "metadata": {},
   "outputs": [
    {
     "data": {
      "text/plain": [
       "132    430.667180\n",
       "133    426.640081\n",
       "134    463.431163\n",
       "135    457.222245\n",
       "136    462.376963\n",
       "137    501.077136\n",
       "138    537.413672\n",
       "139    539.568391\n",
       "140    496.359473\n",
       "141    462.514191\n",
       "142    433.123455\n",
       "143    461.914537\n",
       "dtype: float64"
      ]
     },
     "execution_count": 86,
     "metadata": {},
     "output_type": "execute_result"
    }
   ],
   "source": [
    "pred_add_seas_quad"
   ]
  },
  {
   "cell_type": "code",
   "execution_count": 88,
   "id": "68ff56a8",
   "metadata": {},
   "outputs": [
    {
     "data": {
      "text/plain": [
       "3.4742928918866958"
      ]
     },
     "execution_count": 88,
     "metadata": {},
     "output_type": "execute_result"
    }
   ],
   "source": [
    "rmse_add_seas_quad = np.sqrt(np.mean(pred_add_seas_quad-test.Passengers)**2)\n",
    "rmse_add_seas_quad"
   ]
  },
  {
   "cell_type": "markdown",
   "id": "d578f889",
   "metadata": {},
   "source": [
    "### Multiplicative Seasonality model :-"
   ]
  },
  {
   "cell_type": "code",
   "execution_count": 89,
   "id": "26eaa0be",
   "metadata": {},
   "outputs": [],
   "source": [
    "model6 = smf.ols('log_Passengers~t+Jan+Feb+Mar+Apr+May+Jun+Jul+Aug+Sep+Oct+Nov+Dec', data=train).fit()"
   ]
  },
  {
   "cell_type": "code",
   "execution_count": 95,
   "id": "0a273f17",
   "metadata": {},
   "outputs": [],
   "source": [
    "pred_multi_seas = np.exp(model6.predict(test[['t','Jan','Feb','Mar','Apr','May','Jun','Jul','Aug','Sep','Oct','Nov','Dec']]))"
   ]
  },
  {
   "cell_type": "code",
   "execution_count": 96,
   "id": "7f36a188",
   "metadata": {},
   "outputs": [
    {
     "data": {
      "text/plain": [
       "132    439.703136\n",
       "133    436.538581\n",
       "134    505.546126\n",
       "135    489.716999\n",
       "136    492.788346\n",
       "137    562.800109\n",
       "138    628.667640\n",
       "139    630.691067\n",
       "140    553.384650\n",
       "141    485.483432\n",
       "142    426.047576\n",
       "143    483.211020\n",
       "dtype: float64"
      ]
     },
     "execution_count": 96,
     "metadata": {},
     "output_type": "execute_result"
    }
   ],
   "source": [
    "pred_multi_seas"
   ]
  },
  {
   "cell_type": "code",
   "execution_count": 99,
   "id": "663b02f2",
   "metadata": {},
   "outputs": [
    {
     "data": {
      "text/plain": [
       "35.04822354009304"
      ]
     },
     "execution_count": 99,
     "metadata": {},
     "output_type": "execute_result"
    }
   ],
   "source": [
    "rmse_multi_seas = np.sqrt(np.mean(pred_multi_seas-test.Passengers)**2)\n",
    "rmse_multi_seas"
   ]
  },
  {
   "cell_type": "code",
   "execution_count": 101,
   "id": "4d1dad6d",
   "metadata": {},
   "outputs": [],
   "source": [
    "dict_ = { 'Model': ('Linear model','Exponential model','Quadratic model','Additive Seasonality model ','Additive Seasonability Quadratic model','Multiplicative Seasonality model'),\n",
    "           'Rmse_values': (rmse_linear, rmse_expo, rmse_quad, rmse_add_seas, rmse_add_seas_quad, rmse_multi_seas)}"
   ]
  },
  {
   "cell_type": "code",
   "execution_count": 103,
   "id": "24f825be",
   "metadata": {},
   "outputs": [],
   "source": [
    "table = pd.DataFrame(dict_)"
   ]
  },
  {
   "cell_type": "code",
   "execution_count": 104,
   "id": "9a242491",
   "metadata": {},
   "outputs": [
    {
     "data": {
      "text/html": [
       "<div>\n",
       "<style scoped>\n",
       "    .dataframe tbody tr th:only-of-type {\n",
       "        vertical-align: middle;\n",
       "    }\n",
       "\n",
       "    .dataframe tbody tr th {\n",
       "        vertical-align: top;\n",
       "    }\n",
       "\n",
       "    .dataframe thead th {\n",
       "        text-align: right;\n",
       "    }\n",
       "</style>\n",
       "<table border=\"1\" class=\"dataframe\">\n",
       "  <thead>\n",
       "    <tr style=\"text-align: right;\">\n",
       "      <th></th>\n",
       "      <th>Model</th>\n",
       "      <th>Rmse_values</th>\n",
       "    </tr>\n",
       "  </thead>\n",
       "  <tbody>\n",
       "    <tr>\n",
       "      <th>4</th>\n",
       "      <td>Additive Seasonability Quadratic model</td>\n",
       "      <td>3.474293</td>\n",
       "    </tr>\n",
       "    <tr>\n",
       "      <th>2</th>\n",
       "      <td>Quadratic model</td>\n",
       "      <td>4.416197</td>\n",
       "    </tr>\n",
       "    <tr>\n",
       "      <th>3</th>\n",
       "      <td>Additive Seasonality model</td>\n",
       "      <td>28.769697</td>\n",
       "    </tr>\n",
       "    <tr>\n",
       "      <th>0</th>\n",
       "      <td>Linear model</td>\n",
       "      <td>29.086827</td>\n",
       "    </tr>\n",
       "    <tr>\n",
       "      <th>1</th>\n",
       "      <td>Exponential model</td>\n",
       "      <td>30.239120</td>\n",
       "    </tr>\n",
       "    <tr>\n",
       "      <th>5</th>\n",
       "      <td>Multiplicative Seasonality model</td>\n",
       "      <td>35.048224</td>\n",
       "    </tr>\n",
       "  </tbody>\n",
       "</table>\n",
       "</div>"
      ],
      "text/plain": [
       "                                    Model  Rmse_values\n",
       "4  Additive Seasonability Quadratic model     3.474293\n",
       "2                         Quadratic model     4.416197\n",
       "3             Additive Seasonality model     28.769697\n",
       "0                            Linear model    29.086827\n",
       "1                       Exponential model    30.239120\n",
       "5        Multiplicative Seasonality model    35.048224"
      ]
     },
     "execution_count": 104,
     "metadata": {},
     "output_type": "execute_result"
    }
   ],
   "source": [
    "table.sort_values('Rmse_values')"
   ]
  },
  {
   "cell_type": "code",
   "execution_count": null,
   "id": "fc1a65e2",
   "metadata": {},
   "outputs": [],
   "source": []
  },
  {
   "cell_type": "markdown",
   "id": "c1c57982",
   "metadata": {},
   "source": [
    "- we have to created a lots of dummy variables which are as follows :-\n",
    "- 'Jan', 'Feb', 'Mar', 'Apr', 'May', 'Jun', 'Jul', 'Aug', 'Sep', 'Oct', 'Nov', 'Dec'\n",
    "\n"
   ]
  },
  {
   "cell_type": "markdown",
   "id": "2b249b23",
   "metadata": {},
   "source": [
    "- Also have to created a another columns for using in other models are as follows :-\n",
    "- squared_t ,  log_Passenger,  t"
   ]
  },
  {
   "cell_type": "markdown",
   "id": "69234b14",
   "metadata": {},
   "source": [
    "- We have created total 6 models and there rmse values are given in above table.\n",
    "\n",
    "- from all the models Additive Seasonability Quadratic model gives good accuracy compared to other model"
   ]
  },
  {
   "cell_type": "code",
   "execution_count": 106,
   "id": "8c40060f",
   "metadata": {},
   "outputs": [],
   "source": [
    "final= smf.ols('Passengers~t+t_square+Jan+Feb+Mar+Apr+May+Jun+Jul+Aug+Sep+Oct+Nov+Dec', data=airplane).fit()"
   ]
  },
  {
   "cell_type": "code",
   "execution_count": null,
   "id": "5d54ed89",
   "metadata": {},
   "outputs": [],
   "source": []
  }
 ],
 "metadata": {
  "kernelspec": {
   "display_name": "Python 3",
   "language": "python",
   "name": "python3"
  },
  "language_info": {
   "codemirror_mode": {
    "name": "ipython",
    "version": 3
   },
   "file_extension": ".py",
   "mimetype": "text/x-python",
   "name": "python",
   "nbconvert_exporter": "python",
   "pygments_lexer": "ipython3",
   "version": "3.8.8"
  }
 },
 "nbformat": 4,
 "nbformat_minor": 5
}
