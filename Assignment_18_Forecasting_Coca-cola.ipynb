{
 "cells": [
  {
   "cell_type": "code",
   "execution_count": 84,
   "id": "ab0c290f",
   "metadata": {},
   "outputs": [],
   "source": [
    "import pandas as pd\n",
    "import numpy as np\n",
    "import matplotlib.pyplot as plt\n",
    "import seaborn as sn\n",
    "%matplotlib inline"
   ]
  },
  {
   "cell_type": "code",
   "execution_count": 11,
   "id": "f5646966",
   "metadata": {},
   "outputs": [
    {
     "data": {
      "text/html": [
       "<div>\n",
       "<style scoped>\n",
       "    .dataframe tbody tr th:only-of-type {\n",
       "        vertical-align: middle;\n",
       "    }\n",
       "\n",
       "    .dataframe tbody tr th {\n",
       "        vertical-align: top;\n",
       "    }\n",
       "\n",
       "    .dataframe thead th {\n",
       "        text-align: right;\n",
       "    }\n",
       "</style>\n",
       "<table border=\"1\" class=\"dataframe\">\n",
       "  <thead>\n",
       "    <tr style=\"text-align: right;\">\n",
       "      <th></th>\n",
       "      <th>Quarter</th>\n",
       "      <th>Sales</th>\n",
       "      <th>Q1</th>\n",
       "      <th>Q2</th>\n",
       "      <th>Q3</th>\n",
       "      <th>Q4</th>\n",
       "    </tr>\n",
       "  </thead>\n",
       "  <tbody>\n",
       "    <tr>\n",
       "      <th>0</th>\n",
       "      <td>Q1_86</td>\n",
       "      <td>1734.827000</td>\n",
       "      <td>1</td>\n",
       "      <td>0</td>\n",
       "      <td>0</td>\n",
       "      <td>0</td>\n",
       "    </tr>\n",
       "    <tr>\n",
       "      <th>1</th>\n",
       "      <td>Q2_86</td>\n",
       "      <td>2244.960999</td>\n",
       "      <td>0</td>\n",
       "      <td>1</td>\n",
       "      <td>0</td>\n",
       "      <td>0</td>\n",
       "    </tr>\n",
       "    <tr>\n",
       "      <th>2</th>\n",
       "      <td>Q3_86</td>\n",
       "      <td>2533.804993</td>\n",
       "      <td>0</td>\n",
       "      <td>0</td>\n",
       "      <td>1</td>\n",
       "      <td>0</td>\n",
       "    </tr>\n",
       "    <tr>\n",
       "      <th>3</th>\n",
       "      <td>Q4_86</td>\n",
       "      <td>2154.962997</td>\n",
       "      <td>0</td>\n",
       "      <td>0</td>\n",
       "      <td>0</td>\n",
       "      <td>1</td>\n",
       "    </tr>\n",
       "    <tr>\n",
       "      <th>4</th>\n",
       "      <td>Q1_87</td>\n",
       "      <td>1547.818996</td>\n",
       "      <td>1</td>\n",
       "      <td>0</td>\n",
       "      <td>0</td>\n",
       "      <td>0</td>\n",
       "    </tr>\n",
       "    <tr>\n",
       "      <th>5</th>\n",
       "      <td>Q2_87</td>\n",
       "      <td>2104.411995</td>\n",
       "      <td>0</td>\n",
       "      <td>1</td>\n",
       "      <td>0</td>\n",
       "      <td>0</td>\n",
       "    </tr>\n",
       "    <tr>\n",
       "      <th>6</th>\n",
       "      <td>Q3_87</td>\n",
       "      <td>2014.362999</td>\n",
       "      <td>0</td>\n",
       "      <td>0</td>\n",
       "      <td>1</td>\n",
       "      <td>0</td>\n",
       "    </tr>\n",
       "    <tr>\n",
       "      <th>7</th>\n",
       "      <td>Q4_87</td>\n",
       "      <td>1991.746998</td>\n",
       "      <td>0</td>\n",
       "      <td>0</td>\n",
       "      <td>0</td>\n",
       "      <td>1</td>\n",
       "    </tr>\n",
       "    <tr>\n",
       "      <th>8</th>\n",
       "      <td>Q1_88</td>\n",
       "      <td>1869.049999</td>\n",
       "      <td>1</td>\n",
       "      <td>0</td>\n",
       "      <td>0</td>\n",
       "      <td>0</td>\n",
       "    </tr>\n",
       "    <tr>\n",
       "      <th>9</th>\n",
       "      <td>Q2_88</td>\n",
       "      <td>2313.631996</td>\n",
       "      <td>0</td>\n",
       "      <td>1</td>\n",
       "      <td>0</td>\n",
       "      <td>0</td>\n",
       "    </tr>\n",
       "    <tr>\n",
       "      <th>10</th>\n",
       "      <td>Q3_88</td>\n",
       "      <td>2128.320000</td>\n",
       "      <td>0</td>\n",
       "      <td>0</td>\n",
       "      <td>1</td>\n",
       "      <td>0</td>\n",
       "    </tr>\n",
       "    <tr>\n",
       "      <th>11</th>\n",
       "      <td>Q4_88</td>\n",
       "      <td>2026.828999</td>\n",
       "      <td>0</td>\n",
       "      <td>0</td>\n",
       "      <td>0</td>\n",
       "      <td>1</td>\n",
       "    </tr>\n",
       "    <tr>\n",
       "      <th>12</th>\n",
       "      <td>Q1_89</td>\n",
       "      <td>1910.603996</td>\n",
       "      <td>1</td>\n",
       "      <td>0</td>\n",
       "      <td>0</td>\n",
       "      <td>0</td>\n",
       "    </tr>\n",
       "    <tr>\n",
       "      <th>13</th>\n",
       "      <td>Q2_89</td>\n",
       "      <td>2331.164993</td>\n",
       "      <td>0</td>\n",
       "      <td>1</td>\n",
       "      <td>0</td>\n",
       "      <td>0</td>\n",
       "    </tr>\n",
       "    <tr>\n",
       "      <th>14</th>\n",
       "      <td>Q3_89</td>\n",
       "      <td>2206.549995</td>\n",
       "      <td>0</td>\n",
       "      <td>0</td>\n",
       "      <td>1</td>\n",
       "      <td>0</td>\n",
       "    </tr>\n",
       "    <tr>\n",
       "      <th>15</th>\n",
       "      <td>Q4_89</td>\n",
       "      <td>2173.967995</td>\n",
       "      <td>0</td>\n",
       "      <td>0</td>\n",
       "      <td>0</td>\n",
       "      <td>1</td>\n",
       "    </tr>\n",
       "    <tr>\n",
       "      <th>16</th>\n",
       "      <td>Q1_90</td>\n",
       "      <td>2148.278000</td>\n",
       "      <td>1</td>\n",
       "      <td>0</td>\n",
       "      <td>0</td>\n",
       "      <td>0</td>\n",
       "    </tr>\n",
       "    <tr>\n",
       "      <th>17</th>\n",
       "      <td>Q2_90</td>\n",
       "      <td>2739.307999</td>\n",
       "      <td>0</td>\n",
       "      <td>1</td>\n",
       "      <td>0</td>\n",
       "      <td>0</td>\n",
       "    </tr>\n",
       "    <tr>\n",
       "      <th>18</th>\n",
       "      <td>Q3_90</td>\n",
       "      <td>2792.753998</td>\n",
       "      <td>0</td>\n",
       "      <td>0</td>\n",
       "      <td>1</td>\n",
       "      <td>0</td>\n",
       "    </tr>\n",
       "    <tr>\n",
       "      <th>19</th>\n",
       "      <td>Q4_90</td>\n",
       "      <td>2556.009995</td>\n",
       "      <td>0</td>\n",
       "      <td>0</td>\n",
       "      <td>0</td>\n",
       "      <td>1</td>\n",
       "    </tr>\n",
       "    <tr>\n",
       "      <th>20</th>\n",
       "      <td>Q1_91</td>\n",
       "      <td>2480.973999</td>\n",
       "      <td>1</td>\n",
       "      <td>0</td>\n",
       "      <td>0</td>\n",
       "      <td>0</td>\n",
       "    </tr>\n",
       "    <tr>\n",
       "      <th>21</th>\n",
       "      <td>Q2_91</td>\n",
       "      <td>3039.522995</td>\n",
       "      <td>0</td>\n",
       "      <td>1</td>\n",
       "      <td>0</td>\n",
       "      <td>0</td>\n",
       "    </tr>\n",
       "    <tr>\n",
       "      <th>22</th>\n",
       "      <td>Q3_91</td>\n",
       "      <td>3172.115997</td>\n",
       "      <td>0</td>\n",
       "      <td>0</td>\n",
       "      <td>1</td>\n",
       "      <td>0</td>\n",
       "    </tr>\n",
       "    <tr>\n",
       "      <th>23</th>\n",
       "      <td>Q4_91</td>\n",
       "      <td>2879.000999</td>\n",
       "      <td>0</td>\n",
       "      <td>0</td>\n",
       "      <td>0</td>\n",
       "      <td>1</td>\n",
       "    </tr>\n",
       "    <tr>\n",
       "      <th>24</th>\n",
       "      <td>Q1_92</td>\n",
       "      <td>2772.000000</td>\n",
       "      <td>1</td>\n",
       "      <td>0</td>\n",
       "      <td>0</td>\n",
       "      <td>0</td>\n",
       "    </tr>\n",
       "    <tr>\n",
       "      <th>25</th>\n",
       "      <td>Q2_92</td>\n",
       "      <td>3550.000000</td>\n",
       "      <td>0</td>\n",
       "      <td>1</td>\n",
       "      <td>0</td>\n",
       "      <td>0</td>\n",
       "    </tr>\n",
       "    <tr>\n",
       "      <th>26</th>\n",
       "      <td>Q3_92</td>\n",
       "      <td>3508.000000</td>\n",
       "      <td>0</td>\n",
       "      <td>0</td>\n",
       "      <td>1</td>\n",
       "      <td>0</td>\n",
       "    </tr>\n",
       "    <tr>\n",
       "      <th>27</th>\n",
       "      <td>Q4_92</td>\n",
       "      <td>3243.859993</td>\n",
       "      <td>0</td>\n",
       "      <td>0</td>\n",
       "      <td>0</td>\n",
       "      <td>1</td>\n",
       "    </tr>\n",
       "    <tr>\n",
       "      <th>28</th>\n",
       "      <td>Q1_93</td>\n",
       "      <td>3056.000000</td>\n",
       "      <td>1</td>\n",
       "      <td>0</td>\n",
       "      <td>0</td>\n",
       "      <td>0</td>\n",
       "    </tr>\n",
       "    <tr>\n",
       "      <th>29</th>\n",
       "      <td>Q2_93</td>\n",
       "      <td>3899.000000</td>\n",
       "      <td>0</td>\n",
       "      <td>1</td>\n",
       "      <td>0</td>\n",
       "      <td>0</td>\n",
       "    </tr>\n",
       "    <tr>\n",
       "      <th>30</th>\n",
       "      <td>Q3_93</td>\n",
       "      <td>3629.000000</td>\n",
       "      <td>0</td>\n",
       "      <td>0</td>\n",
       "      <td>1</td>\n",
       "      <td>0</td>\n",
       "    </tr>\n",
       "    <tr>\n",
       "      <th>31</th>\n",
       "      <td>Q4_93</td>\n",
       "      <td>3373.000000</td>\n",
       "      <td>0</td>\n",
       "      <td>0</td>\n",
       "      <td>0</td>\n",
       "      <td>1</td>\n",
       "    </tr>\n",
       "    <tr>\n",
       "      <th>32</th>\n",
       "      <td>Q1_94</td>\n",
       "      <td>3352.000000</td>\n",
       "      <td>1</td>\n",
       "      <td>0</td>\n",
       "      <td>0</td>\n",
       "      <td>0</td>\n",
       "    </tr>\n",
       "    <tr>\n",
       "      <th>33</th>\n",
       "      <td>Q2_94</td>\n",
       "      <td>4342.000000</td>\n",
       "      <td>0</td>\n",
       "      <td>1</td>\n",
       "      <td>0</td>\n",
       "      <td>0</td>\n",
       "    </tr>\n",
       "    <tr>\n",
       "      <th>34</th>\n",
       "      <td>Q3_94</td>\n",
       "      <td>4461.000000</td>\n",
       "      <td>0</td>\n",
       "      <td>0</td>\n",
       "      <td>1</td>\n",
       "      <td>0</td>\n",
       "    </tr>\n",
       "    <tr>\n",
       "      <th>35</th>\n",
       "      <td>Q4_94</td>\n",
       "      <td>4017.000000</td>\n",
       "      <td>0</td>\n",
       "      <td>0</td>\n",
       "      <td>0</td>\n",
       "      <td>1</td>\n",
       "    </tr>\n",
       "    <tr>\n",
       "      <th>36</th>\n",
       "      <td>Q1_95</td>\n",
       "      <td>3854.000000</td>\n",
       "      <td>1</td>\n",
       "      <td>0</td>\n",
       "      <td>0</td>\n",
       "      <td>0</td>\n",
       "    </tr>\n",
       "    <tr>\n",
       "      <th>37</th>\n",
       "      <td>Q2_95</td>\n",
       "      <td>4936.000000</td>\n",
       "      <td>0</td>\n",
       "      <td>1</td>\n",
       "      <td>0</td>\n",
       "      <td>0</td>\n",
       "    </tr>\n",
       "    <tr>\n",
       "      <th>38</th>\n",
       "      <td>Q3_95</td>\n",
       "      <td>4895.000000</td>\n",
       "      <td>0</td>\n",
       "      <td>0</td>\n",
       "      <td>1</td>\n",
       "      <td>0</td>\n",
       "    </tr>\n",
       "    <tr>\n",
       "      <th>39</th>\n",
       "      <td>Q4_95</td>\n",
       "      <td>4333.000000</td>\n",
       "      <td>0</td>\n",
       "      <td>0</td>\n",
       "      <td>0</td>\n",
       "      <td>1</td>\n",
       "    </tr>\n",
       "    <tr>\n",
       "      <th>40</th>\n",
       "      <td>Q1_96</td>\n",
       "      <td>4194.000000</td>\n",
       "      <td>1</td>\n",
       "      <td>0</td>\n",
       "      <td>0</td>\n",
       "      <td>0</td>\n",
       "    </tr>\n",
       "    <tr>\n",
       "      <th>41</th>\n",
       "      <td>Q2_96</td>\n",
       "      <td>5253.000000</td>\n",
       "      <td>0</td>\n",
       "      <td>1</td>\n",
       "      <td>0</td>\n",
       "      <td>0</td>\n",
       "    </tr>\n",
       "  </tbody>\n",
       "</table>\n",
       "</div>"
      ],
      "text/plain": [
       "   Quarter        Sales  Q1  Q2  Q3  Q4\n",
       "0    Q1_86  1734.827000   1   0   0   0\n",
       "1    Q2_86  2244.960999   0   1   0   0\n",
       "2    Q3_86  2533.804993   0   0   1   0\n",
       "3    Q4_86  2154.962997   0   0   0   1\n",
       "4    Q1_87  1547.818996   1   0   0   0\n",
       "5    Q2_87  2104.411995   0   1   0   0\n",
       "6    Q3_87  2014.362999   0   0   1   0\n",
       "7    Q4_87  1991.746998   0   0   0   1\n",
       "8    Q1_88  1869.049999   1   0   0   0\n",
       "9    Q2_88  2313.631996   0   1   0   0\n",
       "10   Q3_88  2128.320000   0   0   1   0\n",
       "11   Q4_88  2026.828999   0   0   0   1\n",
       "12   Q1_89  1910.603996   1   0   0   0\n",
       "13   Q2_89  2331.164993   0   1   0   0\n",
       "14   Q3_89  2206.549995   0   0   1   0\n",
       "15   Q4_89  2173.967995   0   0   0   1\n",
       "16   Q1_90  2148.278000   1   0   0   0\n",
       "17   Q2_90  2739.307999   0   1   0   0\n",
       "18   Q3_90  2792.753998   0   0   1   0\n",
       "19   Q4_90  2556.009995   0   0   0   1\n",
       "20   Q1_91  2480.973999   1   0   0   0\n",
       "21   Q2_91  3039.522995   0   1   0   0\n",
       "22   Q3_91  3172.115997   0   0   1   0\n",
       "23   Q4_91  2879.000999   0   0   0   1\n",
       "24   Q1_92  2772.000000   1   0   0   0\n",
       "25   Q2_92  3550.000000   0   1   0   0\n",
       "26   Q3_92  3508.000000   0   0   1   0\n",
       "27   Q4_92  3243.859993   0   0   0   1\n",
       "28   Q1_93  3056.000000   1   0   0   0\n",
       "29   Q2_93  3899.000000   0   1   0   0\n",
       "30   Q3_93  3629.000000   0   0   1   0\n",
       "31   Q4_93  3373.000000   0   0   0   1\n",
       "32   Q1_94  3352.000000   1   0   0   0\n",
       "33   Q2_94  4342.000000   0   1   0   0\n",
       "34   Q3_94  4461.000000   0   0   1   0\n",
       "35   Q4_94  4017.000000   0   0   0   1\n",
       "36   Q1_95  3854.000000   1   0   0   0\n",
       "37   Q2_95  4936.000000   0   1   0   0\n",
       "38   Q3_95  4895.000000   0   0   1   0\n",
       "39   Q4_95  4333.000000   0   0   0   1\n",
       "40   Q1_96  4194.000000   1   0   0   0\n",
       "41   Q2_96  5253.000000   0   1   0   0"
      ]
     },
     "execution_count": 11,
     "metadata": {},
     "output_type": "execute_result"
    }
   ],
   "source": [
    "data = pd.read_csv(\"C:\\\\Users\\\\RUSHIKESH\\\\Downloads\\\\CocaCola_Sales_Rawdata.csv\")\n",
    "data"
   ]
  },
  {
   "cell_type": "code",
   "execution_count": 13,
   "id": "c10979cd",
   "metadata": {},
   "outputs": [],
   "source": [
    "data[\"t\"] = np.arange(1,43)"
   ]
  },
  {
   "cell_type": "code",
   "execution_count": 14,
   "id": "a1fc7e69",
   "metadata": {},
   "outputs": [],
   "source": [
    "data['squared_t'] = data.t*data.t"
   ]
  },
  {
   "cell_type": "code",
   "execution_count": 16,
   "id": "cdcc5885",
   "metadata": {},
   "outputs": [],
   "source": [
    "data['log_sales'] = np.log(data['Sales'])"
   ]
  },
  {
   "cell_type": "code",
   "execution_count": 19,
   "id": "c10b60ee",
   "metadata": {},
   "outputs": [
    {
     "data": {
      "text/html": [
       "<div>\n",
       "<style scoped>\n",
       "    .dataframe tbody tr th:only-of-type {\n",
       "        vertical-align: middle;\n",
       "    }\n",
       "\n",
       "    .dataframe tbody tr th {\n",
       "        vertical-align: top;\n",
       "    }\n",
       "\n",
       "    .dataframe thead th {\n",
       "        text-align: right;\n",
       "    }\n",
       "</style>\n",
       "<table border=\"1\" class=\"dataframe\">\n",
       "  <thead>\n",
       "    <tr style=\"text-align: right;\">\n",
       "      <th></th>\n",
       "      <th>Quarter</th>\n",
       "      <th>Sales</th>\n",
       "      <th>Q1</th>\n",
       "      <th>Q2</th>\n",
       "      <th>Q3</th>\n",
       "      <th>Q4</th>\n",
       "      <th>t</th>\n",
       "      <th>squared_t</th>\n",
       "      <th>log_sales</th>\n",
       "    </tr>\n",
       "  </thead>\n",
       "  <tbody>\n",
       "    <tr>\n",
       "      <th>0</th>\n",
       "      <td>Q1_86</td>\n",
       "      <td>1734.827000</td>\n",
       "      <td>1</td>\n",
       "      <td>0</td>\n",
       "      <td>0</td>\n",
       "      <td>0</td>\n",
       "      <td>1</td>\n",
       "      <td>1</td>\n",
       "      <td>7.458663</td>\n",
       "    </tr>\n",
       "    <tr>\n",
       "      <th>1</th>\n",
       "      <td>Q2_86</td>\n",
       "      <td>2244.960999</td>\n",
       "      <td>0</td>\n",
       "      <td>1</td>\n",
       "      <td>0</td>\n",
       "      <td>0</td>\n",
       "      <td>2</td>\n",
       "      <td>4</td>\n",
       "      <td>7.716443</td>\n",
       "    </tr>\n",
       "    <tr>\n",
       "      <th>2</th>\n",
       "      <td>Q3_86</td>\n",
       "      <td>2533.804993</td>\n",
       "      <td>0</td>\n",
       "      <td>0</td>\n",
       "      <td>1</td>\n",
       "      <td>0</td>\n",
       "      <td>3</td>\n",
       "      <td>9</td>\n",
       "      <td>7.837477</td>\n",
       "    </tr>\n",
       "    <tr>\n",
       "      <th>3</th>\n",
       "      <td>Q4_86</td>\n",
       "      <td>2154.962997</td>\n",
       "      <td>0</td>\n",
       "      <td>0</td>\n",
       "      <td>0</td>\n",
       "      <td>1</td>\n",
       "      <td>4</td>\n",
       "      <td>16</td>\n",
       "      <td>7.675529</td>\n",
       "    </tr>\n",
       "    <tr>\n",
       "      <th>4</th>\n",
       "      <td>Q1_87</td>\n",
       "      <td>1547.818996</td>\n",
       "      <td>1</td>\n",
       "      <td>0</td>\n",
       "      <td>0</td>\n",
       "      <td>0</td>\n",
       "      <td>5</td>\n",
       "      <td>25</td>\n",
       "      <td>7.344602</td>\n",
       "    </tr>\n",
       "  </tbody>\n",
       "</table>\n",
       "</div>"
      ],
      "text/plain": [
       "  Quarter        Sales  Q1  Q2  Q3  Q4  t  squared_t  log_sales\n",
       "0   Q1_86  1734.827000   1   0   0   0  1          1   7.458663\n",
       "1   Q2_86  2244.960999   0   1   0   0  2          4   7.716443\n",
       "2   Q3_86  2533.804993   0   0   1   0  3          9   7.837477\n",
       "3   Q4_86  2154.962997   0   0   0   1  4         16   7.675529\n",
       "4   Q1_87  1547.818996   1   0   0   0  5         25   7.344602"
      ]
     },
     "execution_count": 19,
     "metadata": {},
     "output_type": "execute_result"
    }
   ],
   "source": [
    "data.head()"
   ]
  },
  {
   "cell_type": "code",
   "execution_count": 20,
   "id": "5c329ee4",
   "metadata": {},
   "outputs": [
    {
     "data": {
      "text/plain": [
       "<AxesSubplot:>"
      ]
     },
     "execution_count": 20,
     "metadata": {},
     "output_type": "execute_result"
    },
    {
     "data": {
      "image/png": "[encoded data removed]",
      "text/plain": [
       "<Figure size 864x288 with 1 Axes>"
      ]
     },
     "metadata": {
      "needs_background": "light"
     },
     "output_type": "display_data"
    }
   ],
   "source": [
    "data['Sales'].plot(figsize=(12,4))"
   ]
  },
  {
   "cell_type": "code",
   "execution_count": 21,
   "id": "0c19fb99",
   "metadata": {},
   "outputs": [
    {
     "data": {
      "text/plain": [
       "<AxesSubplot:>"
      ]
     },
     "execution_count": 21,
     "metadata": {},
     "output_type": "execute_result"
    },
    {
     "data": {
      "image/png": "[encoded data removed]",
      "text/plain": [
       "<Figure size 432x288 with 1 Axes>"
      ]
     },
     "metadata": {
      "needs_background": "light"
     },
     "output_type": "display_data"
    }
   ],
   "source": [
    "data['Sales'].hist()"
   ]
  },
  {
   "cell_type": "markdown",
   "id": "3e925c93",
   "metadata": {},
   "source": [
    "## Splitting the data into train test :-"
   ]
  },
  {
   "cell_type": "code",
   "execution_count": 31,
   "id": "61bfa0af",
   "metadata": {},
   "outputs": [],
   "source": [
    "train = data.head(38)\n",
    "test = data.tail(4)"
   ]
  },
  {
   "cell_type": "code",
   "execution_count": 32,
   "id": "9108077e",
   "metadata": {},
   "outputs": [
    {
     "data": {
      "text/html": [
       "<div>\n",
       "<style scoped>\n",
       "    .dataframe tbody tr th:only-of-type {\n",
       "        vertical-align: middle;\n",
       "    }\n",
       "\n",
       "    .dataframe tbody tr th {\n",
       "        vertical-align: top;\n",
       "    }\n",
       "\n",
       "    .dataframe thead th {\n",
       "        text-align: right;\n",
       "    }\n",
       "</style>\n",
       "<table border=\"1\" class=\"dataframe\">\n",
       "  <thead>\n",
       "    <tr style=\"text-align: right;\">\n",
       "      <th></th>\n",
       "      <th>Quarter</th>\n",
       "      <th>Sales</th>\n",
       "      <th>Q1</th>\n",
       "      <th>Q2</th>\n",
       "      <th>Q3</th>\n",
       "      <th>Q4</th>\n",
       "      <th>t</th>\n",
       "      <th>squared_t</th>\n",
       "      <th>log_sales</th>\n",
       "    </tr>\n",
       "  </thead>\n",
       "  <tbody>\n",
       "    <tr>\n",
       "      <th>38</th>\n",
       "      <td>Q3_95</td>\n",
       "      <td>4895.0</td>\n",
       "      <td>0</td>\n",
       "      <td>0</td>\n",
       "      <td>1</td>\n",
       "      <td>0</td>\n",
       "      <td>39</td>\n",
       "      <td>1521</td>\n",
       "      <td>8.495970</td>\n",
       "    </tr>\n",
       "    <tr>\n",
       "      <th>39</th>\n",
       "      <td>Q4_95</td>\n",
       "      <td>4333.0</td>\n",
       "      <td>0</td>\n",
       "      <td>0</td>\n",
       "      <td>0</td>\n",
       "      <td>1</td>\n",
       "      <td>40</td>\n",
       "      <td>1600</td>\n",
       "      <td>8.374015</td>\n",
       "    </tr>\n",
       "    <tr>\n",
       "      <th>40</th>\n",
       "      <td>Q1_96</td>\n",
       "      <td>4194.0</td>\n",
       "      <td>1</td>\n",
       "      <td>0</td>\n",
       "      <td>0</td>\n",
       "      <td>0</td>\n",
       "      <td>41</td>\n",
       "      <td>1681</td>\n",
       "      <td>8.341410</td>\n",
       "    </tr>\n",
       "    <tr>\n",
       "      <th>41</th>\n",
       "      <td>Q2_96</td>\n",
       "      <td>5253.0</td>\n",
       "      <td>0</td>\n",
       "      <td>1</td>\n",
       "      <td>0</td>\n",
       "      <td>0</td>\n",
       "      <td>42</td>\n",
       "      <td>1764</td>\n",
       "      <td>8.566555</td>\n",
       "    </tr>\n",
       "  </tbody>\n",
       "</table>\n",
       "</div>"
      ],
      "text/plain": [
       "   Quarter   Sales  Q1  Q2  Q3  Q4   t  squared_t  log_sales\n",
       "38   Q3_95  4895.0   0   0   1   0  39       1521   8.495970\n",
       "39   Q4_95  4333.0   0   0   0   1  40       1600   8.374015\n",
       "40   Q1_96  4194.0   1   0   0   0  41       1681   8.341410\n",
       "41   Q2_96  5253.0   0   1   0   0  42       1764   8.566555"
      ]
     },
     "execution_count": 32,
     "metadata": {},
     "output_type": "execute_result"
    }
   ],
   "source": [
    "test"
   ]
  },
  {
   "cell_type": "markdown",
   "id": "6ee84e66",
   "metadata": {},
   "source": [
    "## Applying different different models :-"
   ]
  },
  {
   "cell_type": "code",
   "execution_count": 35,
   "id": "898d43d7",
   "metadata": {},
   "outputs": [],
   "source": [
    "import statsmodels.formula.api as smf"
   ]
  },
  {
   "cell_type": "markdown",
   "id": "0c3a0cb6",
   "metadata": {},
   "source": [
    "- Linear model :-"
   ]
  },
  {
   "cell_type": "code",
   "execution_count": 42,
   "id": "7e468b30",
   "metadata": {},
   "outputs": [],
   "source": [
    "model1 = smf.ols('Sales~t', data=train).fit()"
   ]
  },
  {
   "cell_type": "code",
   "execution_count": 95,
   "id": "ad68ec34",
   "metadata": {},
   "outputs": [],
   "source": [
    "pred_linear = pd.Series(model1.predict(pd.DataFrame(test.t)))"
   ]
  },
  {
   "cell_type": "code",
   "execution_count": 96,
   "id": "030624a6",
   "metadata": {},
   "outputs": [
    {
     "data": {
      "text/plain": [
       "38    4145.466199\n",
       "39    4213.536208\n",
       "40    4281.606217\n",
       "41    4349.676226\n",
       "dtype: float64"
      ]
     },
     "execution_count": 96,
     "metadata": {},
     "output_type": "execute_result"
    }
   ],
   "source": [
    "pred_linear"
   ]
  },
  {
   "cell_type": "code",
   "execution_count": 106,
   "id": "f74673cf",
   "metadata": {},
   "outputs": [
    {
     "data": {
      "text/plain": [
       "421.1787876367782"
      ]
     },
     "execution_count": 106,
     "metadata": {},
     "output_type": "execute_result"
    }
   ],
   "source": [
    "rmse_linear = np.sqrt(np.mean(pred_linear-test.Sales)**2)\n",
    "rmse_linear"
   ]
  },
  {
   "cell_type": "markdown",
   "id": "8d900cc5",
   "metadata": {},
   "source": [
    "- Exponential model :-"
   ]
  },
  {
   "cell_type": "code",
   "execution_count": 47,
   "id": "7928e144",
   "metadata": {},
   "outputs": [],
   "source": [
    "model2 = smf.ols('log_sales~t', data=train).fit()"
   ]
  },
  {
   "cell_type": "code",
   "execution_count": 50,
   "id": "852f7865",
   "metadata": {},
   "outputs": [],
   "source": [
    "pred_expo = np.exp(model2.predict(test.t))"
   ]
  },
  {
   "cell_type": "code",
   "execution_count": 51,
   "id": "5f7c3ed4",
   "metadata": {},
   "outputs": [
    {
     "data": {
      "text/plain": [
       "38    4295.822022\n",
       "39    4399.046102\n",
       "40    4504.750549\n",
       "41    4612.994962\n",
       "dtype: float64"
      ]
     },
     "execution_count": 51,
     "metadata": {},
     "output_type": "execute_result"
    }
   ],
   "source": [
    "pred_expo"
   ]
  },
  {
   "cell_type": "code",
   "execution_count": 53,
   "id": "c122d0d0",
   "metadata": {},
   "outputs": [
    {
     "data": {
      "text/plain": [
       "215.59659141319707"
      ]
     },
     "execution_count": 53,
     "metadata": {},
     "output_type": "execute_result"
    }
   ],
   "source": [
    "rmse_expo = np.sqrt(np.mean(pred_expo-test.Sales)**2)\n",
    "rmse_expo"
   ]
  },
  {
   "cell_type": "markdown",
   "id": "c76c6ce5",
   "metadata": {},
   "source": [
    "- Quadratic model :-"
   ]
  },
  {
   "cell_type": "code",
   "execution_count": 54,
   "id": "392ee510",
   "metadata": {},
   "outputs": [],
   "source": [
    "model3 = smf.ols('Sales~t+squared_t', data=train).fit()"
   ]
  },
  {
   "cell_type": "code",
   "execution_count": 60,
   "id": "37385680",
   "metadata": {},
   "outputs": [],
   "source": [
    "pred_quad = model3.predict(test[['t','squared_t']])"
   ]
  },
  {
   "cell_type": "code",
   "execution_count": 61,
   "id": "8e454b57",
   "metadata": {},
   "outputs": [
    {
     "data": {
      "text/plain": [
       "38    4669.104172\n",
       "39    4817.733869\n",
       "40    4970.391551\n",
       "41    5127.077217\n",
       "dtype: float64"
      ]
     },
     "execution_count": 61,
     "metadata": {},
     "output_type": "execute_result"
    }
   ],
   "source": [
    "pred_quad"
   ]
  },
  {
   "cell_type": "code",
   "execution_count": 62,
   "id": "6ea97678",
   "metadata": {},
   "outputs": [
    {
     "data": {
      "text/plain": [
       "227.32670214586665"
      ]
     },
     "execution_count": 62,
     "metadata": {},
     "output_type": "execute_result"
    }
   ],
   "source": [
    "rmse_quad = np.sqrt(np.mean(pred_quad-test.Sales)**2)\n",
    "rmse_quad"
   ]
  },
  {
   "cell_type": "markdown",
   "id": "a9e6db5e",
   "metadata": {},
   "source": [
    "- Additive Seasonality model :-"
   ]
  },
  {
   "cell_type": "code",
   "execution_count": 108,
   "id": "8d92e476",
   "metadata": {},
   "outputs": [],
   "source": [
    "model4 = smf.ols('Sales~t+Q1+Q2+Q3+Q4', data=train).fit()"
   ]
  },
  {
   "cell_type": "code",
   "execution_count": 109,
   "id": "13115368",
   "metadata": {},
   "outputs": [],
   "source": [
    "pred_add_seas = model4.predict(test[['t','Q1','Q2','Q3','Q4']])"
   ]
  },
  {
   "cell_type": "code",
   "execution_count": 110,
   "id": "3d1940d4",
   "metadata": {},
   "outputs": [
    {
     "data": {
      "text/plain": [
       "38    4292.265126\n",
       "39    4066.761792\n",
       "40    3961.769195\n",
       "41    4639.214094\n",
       "dtype: float64"
      ]
     },
     "execution_count": 110,
     "metadata": {},
     "output_type": "execute_result"
    }
   ],
   "source": [
    "pred_add_seas"
   ]
  },
  {
   "cell_type": "code",
   "execution_count": 111,
   "id": "503e7875",
   "metadata": {},
   "outputs": [
    {
     "data": {
      "text/plain": [
       "428.7474485862565"
      ]
     },
     "execution_count": 111,
     "metadata": {},
     "output_type": "execute_result"
    }
   ],
   "source": [
    "rmse_add_seas = np.sqrt(np.mean(pred_add_seas-test.Sales)**2)\n",
    "rmse_add_seas"
   ]
  },
  {
   "cell_type": "markdown",
   "id": "89ccf378",
   "metadata": {},
   "source": [
    "- Additive Seasonability Quadratic model :-"
   ]
  },
  {
   "cell_type": "code",
   "execution_count": 70,
   "id": "b62573b0",
   "metadata": {},
   "outputs": [],
   "source": [
    "model5 = smf.ols('Sales~Q1+Q2+Q3+Q4+t+squared_t', data=train).fit()"
   ]
  },
  {
   "cell_type": "code",
   "execution_count": 71,
   "id": "5b284890",
   "metadata": {},
   "outputs": [],
   "source": [
    "pred_add_seas_quad = model5.predict(test[['Q1','Q2','Q3','Q4','t','squared_t']])"
   ]
  },
  {
   "cell_type": "code",
   "execution_count": 72,
   "id": "cbe4d6a0",
   "metadata": {},
   "outputs": [
    {
     "data": {
      "text/plain": [
       "38    4852.677797\n",
       "39    4709.186074\n",
       "40    4638.364982\n",
       "41    5406.022652\n",
       "dtype: float64"
      ]
     },
     "execution_count": 72,
     "metadata": {},
     "output_type": "execute_result"
    }
   ],
   "source": [
    "pred_add_seas_quad"
   ]
  },
  {
   "cell_type": "code",
   "execution_count": 74,
   "id": "b7fd12e1",
   "metadata": {},
   "outputs": [
    {
     "data": {
      "text/plain": [
       "232.81287624425772"
      ]
     },
     "execution_count": 74,
     "metadata": {},
     "output_type": "execute_result"
    }
   ],
   "source": [
    "rmse_add_seas_quad = np.sqrt(np.mean(pred_add_seas_quad-test.Sales)**2)\n",
    "rmse_add_seas_quad"
   ]
  },
  {
   "cell_type": "markdown",
   "id": "eef003d5",
   "metadata": {},
   "source": [
    "- Multiplicative Seasonality model :-"
   ]
  },
  {
   "cell_type": "code",
   "execution_count": 85,
   "id": "1cf17870",
   "metadata": {},
   "outputs": [],
   "source": [
    "model6 = smf.ols('log_sales~Q1+Q2+Q3+Q4+t', data=train).fit()"
   ]
  },
  {
   "cell_type": "code",
   "execution_count": 87,
   "id": "ee44abea",
   "metadata": {},
   "outputs": [],
   "source": [
    "pred_multi_seas = np.exp(model6.predict(test[['Q1','Q2','Q3','Q4','t']]))"
   ]
  },
  {
   "cell_type": "code",
   "execution_count": 88,
   "id": "59ef3230",
   "metadata": {},
   "outputs": [
    {
     "data": {
      "text/plain": [
       "38    4555.076459\n",
       "39    4224.164912\n",
       "40    3983.650878\n",
       "41    5074.659987\n",
       "dtype: float64"
      ]
     },
     "execution_count": 88,
     "metadata": {},
     "output_type": "execute_result"
    }
   ],
   "source": [
    "pred_multi_seas"
   ]
  },
  {
   "cell_type": "code",
   "execution_count": 89,
   "id": "0155a8fb",
   "metadata": {},
   "outputs": [
    {
     "data": {
      "text/plain": [
       "209.3619406943235"
      ]
     },
     "execution_count": 89,
     "metadata": {},
     "output_type": "execute_result"
    }
   ],
   "source": [
    "rmse_multi_seas = np.sqrt(np.mean(pred_multi_seas-test.Sales)**2)\n",
    "rmse_multi_seas"
   ]
  },
  {
   "cell_type": "code",
   "execution_count": 112,
   "id": "f8d687c8",
   "metadata": {},
   "outputs": [],
   "source": [
    "dict_ = {'model': pd.Series(['rmse_linear','rmse_expo','rmse_quad','rmse_add_seas','rmse_add_seas_quad','rmse_multi_seas']),\n",
    "        'rmse_values': ([rmse_linear, rmse_expo, rmse_quad,rmse_add_seas, rmse_add_seas_quad, rmse_multi_seas  ])}"
   ]
  },
  {
   "cell_type": "code",
   "execution_count": 113,
   "id": "c010f760",
   "metadata": {},
   "outputs": [],
   "source": [
    "table = pd.DataFrame(dict_)"
   ]
  },
  {
   "cell_type": "code",
   "execution_count": 114,
   "id": "b040f94a",
   "metadata": {},
   "outputs": [
    {
     "data": {
      "text/html": [
       "<div>\n",
       "<style scoped>\n",
       "    .dataframe tbody tr th:only-of-type {\n",
       "        vertical-align: middle;\n",
       "    }\n",
       "\n",
       "    .dataframe tbody tr th {\n",
       "        vertical-align: top;\n",
       "    }\n",
       "\n",
       "    .dataframe thead th {\n",
       "        text-align: right;\n",
       "    }\n",
       "</style>\n",
       "<table border=\"1\" class=\"dataframe\">\n",
       "  <thead>\n",
       "    <tr style=\"text-align: right;\">\n",
       "      <th></th>\n",
       "      <th>model</th>\n",
       "      <th>rmse_values</th>\n",
       "    </tr>\n",
       "  </thead>\n",
       "  <tbody>\n",
       "    <tr>\n",
       "      <th>5</th>\n",
       "      <td>rmse_multi_seas</td>\n",
       "      <td>209.361941</td>\n",
       "    </tr>\n",
       "    <tr>\n",
       "      <th>1</th>\n",
       "      <td>rmse_expo</td>\n",
       "      <td>215.596591</td>\n",
       "    </tr>\n",
       "    <tr>\n",
       "      <th>2</th>\n",
       "      <td>rmse_quad</td>\n",
       "      <td>227.326702</td>\n",
       "    </tr>\n",
       "    <tr>\n",
       "      <th>4</th>\n",
       "      <td>rmse_add_seas_quad</td>\n",
       "      <td>232.812876</td>\n",
       "    </tr>\n",
       "    <tr>\n",
       "      <th>0</th>\n",
       "      <td>rmse_linear</td>\n",
       "      <td>421.178788</td>\n",
       "    </tr>\n",
       "    <tr>\n",
       "      <th>3</th>\n",
       "      <td>rmse_add_seas</td>\n",
       "      <td>428.747449</td>\n",
       "    </tr>\n",
       "  </tbody>\n",
       "</table>\n",
       "</div>"
      ],
      "text/plain": [
       "                model  rmse_values\n",
       "5     rmse_multi_seas   209.361941\n",
       "1           rmse_expo   215.596591\n",
       "2           rmse_quad   227.326702\n",
       "4  rmse_add_seas_quad   232.812876\n",
       "0         rmse_linear   421.178788\n",
       "3       rmse_add_seas   428.747449"
      ]
     },
     "execution_count": 114,
     "metadata": {},
     "output_type": "execute_result"
    }
   ],
   "source": [
    "table.sort_values(['rmse_values'])"
   ]
  },
  {
   "cell_type": "markdown",
   "id": "d8eeddd1",
   "metadata": {},
   "source": []
  },
  {
   "cell_type": "markdown",
   "id": "66972535",
   "metadata": {},
   "source": [
    "- we have to created a lots of dummy variables which are as follows :-\n",
    "- Q1\n",
    "- Q2\n",
    "- Q3\n",
    "- Q4\n",
    "\n",
    "\n",
    "- We have created total 6 models and there rmse values are given in above table.\n",
    "- from all the models Multiplicative Seasonality model gives good accuracy compared to other model"
   ]
  },
  {
   "cell_type": "markdown",
   "id": "7bcacdfc",
   "metadata": {},
   "source": [
    "- our final model :- "
   ]
  },
  {
   "cell_type": "code",
   "execution_count": 115,
   "id": "eb667fa9",
   "metadata": {},
   "outputs": [],
   "source": [
    "final= smf.ols('log_sales~t+Q1+Q2+Q3+Q4',data=data).fit()"
   ]
  },
  {
   "cell_type": "code",
   "execution_count": null,
   "id": "374690e6",
   "metadata": {},
   "outputs": [],
   "source": []
  }
 ],
 "metadata": {
  "kernelspec": {
   "display_name": "Python 3",
   "language": "python",
   "name": "python3"
  },
  "language_info": {
   "codemirror_mode": {
    "name": "ipython",
    "version": 3
   },
   "file_extension": ".py",
   "mimetype": "text/x-python",
   "name": "python",
   "nbconvert_exporter": "python",
   "pygments_lexer": "ipython3",
   "version": "3.8.8"
  }
 },
 "nbformat": 4,
 "nbformat_minor": 5
}
